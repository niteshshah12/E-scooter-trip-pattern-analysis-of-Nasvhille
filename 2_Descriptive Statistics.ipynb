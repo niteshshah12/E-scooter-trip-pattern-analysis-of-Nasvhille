{
 "cells": [
  {
   "cell_type": "code",
   "execution_count": 1,
   "metadata": {
    "ExecuteTime": {
     "end_time": "2020-07-10T19:44:54.537994Z",
     "start_time": "2020-07-10T19:44:52.769187Z"
    }
   },
   "outputs": [
    {
     "name": "stderr",
     "output_type": "stream",
     "text": [
      "C:\\Users\\nshah12\\Anaconda3\\lib\\site-packages\\statsmodels\\tools\\_testing.py:19: FutureWarning: pandas.util.testing is deprecated. Use the functions in the public API at pandas.testing instead.\n",
      "  import pandas.util.testing as tm\n"
     ]
    }
   ],
   "source": [
    "import pandas as pd\n",
    "import numpy as np\n",
    "\n",
    "import geopandas as gpd\n",
    "from shapely.geometry import Point, LineString\n",
    "\n",
    "#other library\n",
    "import ast\n",
    "from math import radians, cos, sin, asin, sqrt \n",
    "from shapely.geometry import Point, LineString\n",
    "\n",
    "import matplotlib.pyplot as plt\n",
    "from matplotlib.ticker import (MultipleLocator, FormatStrFormatter,\n",
    "                               AutoMinorLocator)\n",
    "\n",
    "\n",
    "import seaborn as sns\n",
    "from matplotlib import style\n",
    "style.use('seaborn-darkgrid')\n",
    "\n",
    "import folium\n",
    "\n",
    "import ast\n",
    "\n",
    "%matplotlib inline"
   ]
  },
  {
   "cell_type": "markdown",
   "metadata": {},
   "source": [
    "# Read Data"
   ]
  },
  {
   "cell_type": "code",
   "execution_count": 2,
   "metadata": {
    "ExecuteTime": {
     "end_time": "2020-07-10T19:45:15.458780Z",
     "start_time": "2020-07-10T19:44:54.539810Z"
    }
   },
   "outputs": [
    {
     "name": "stderr",
     "output_type": "stream",
     "text": [
      "C:\\Users\\nshah12\\Anaconda3\\lib\\site-packages\\ipykernel_launcher.py:1: FutureWarning: The pandas.datetime class is deprecated and will be removed from pandas in a future version. Import from datetime module instead.\n",
      "  \"\"\"Entry point for launching an IPython kernel.\n"
     ]
    }
   ],
   "source": [
    "mydateparser = lambda x: pd.datetime.strptime(x, '%Y-%m-%d %H:%M:%S')\n",
    "data = pd.read_csv(\n",
    "    '_Data/trip data/cleaned_trip_data_withoutRouteData.csv',\n",
    "    parse_dates=['startDateTime'],\n",
    "    date_parser=mydateparser)"
   ]
  },
  {
   "cell_type": "code",
   "execution_count": 3,
   "metadata": {
    "ExecuteTime": {
     "end_time": "2020-07-10T19:45:15.464764Z",
     "start_time": "2020-07-10T19:45:15.459748Z"
    }
   },
   "outputs": [
    {
     "data": {
      "text/plain": [
       "Index(['Unnamed: 0', 'trip_id', 'companyName', 'tripRecordNum', 'sumdID',\n",
       "       'tripDuration', 'tripDistance', 'startLatitude', 'startLongitude',\n",
       "       'endLatitude', 'endLongitude', 'startDateTime', 'endDateTime',\n",
       "       'tripDistance_miles', 'euclidean_distance', 'distance_GPS_trace',\n",
       "       'distance_GPS_trace_miles', 'trip_start_hour_no', 'StartTime_AMPeak',\n",
       "       'StartTime_Day', 'StartTime_PMPeak', 'StartTime_Night',\n",
       "       'StartTime_decimal', 'route_directness_trace',\n",
       "       'route_directness_rawDist', 'average_trip_speed_mph',\n",
       "       'trip_start_week_no', 'weekend_trip', 'start_date_str',\n",
       "       'high_trip_count_day'],\n",
       "      dtype='object')"
      ]
     },
     "execution_count": 3,
     "metadata": {},
     "output_type": "execute_result"
    }
   ],
   "source": [
    "data.columns"
   ]
  },
  {
   "cell_type": "code",
   "execution_count": 4,
   "metadata": {
    "ExecuteTime": {
     "end_time": "2020-07-10T19:46:02.395833Z",
     "start_time": "2020-07-10T19:45:15.465734Z"
    }
   },
   "outputs": [],
   "source": [
    "data['week_of_year'] = data.apply(lambda x: x['startDateTime'].weekofyear, axis=1)\n",
    "data['week_day'] = data.apply(lambda x: x['startDateTime'].weekday(), axis=1)\n",
    "data['hour_no'] = data.apply(lambda x: x['startDateTime'].hour, axis=1)"
   ]
  },
  {
   "cell_type": "markdown",
   "metadata": {},
   "source": [
    "# Descriptive statistics "
   ]
  },
  {
   "cell_type": "markdown",
   "metadata": {},
   "source": [
    "## Basic trip statistics of raw data (before cleaning)"
   ]
  },
  {
   "cell_type": "code",
   "execution_count": 5,
   "metadata": {
    "ExecuteTime": {
     "end_time": "2020-07-10T19:49:50.074311Z",
     "start_time": "2020-07-10T19:46:02.396799Z"
    }
   },
   "outputs": [
    {
     "name": "stdout",
     "output_type": "stream",
     "text": [
      "mean trip distance:  14.529923555474182\n",
      "median trip distance:  0.20770272727272726\n",
      "mean trip duration:  95.26457665671221\n",
      "median trip duration:  9.9666666667\n"
     ]
    }
   ],
   "source": [
    "def trip_stat_raw():\n",
    "    data = pd.read_csv('_Data/trip data/trip_dataset.csv')#.sample(5000)\n",
    "\n",
    "    #     #sample small data to test code BUT comment out for final script\n",
    "    #empty dictionary to track removed trips\n",
    "    data_count={'Number of trips before slicing date: ':len(data)}\n",
    "\n",
    "\n",
    "    #---------------------------------------------------------------------------------------------------------------\n",
    "    #CONVERT START AND END DATE AND TIME TO PANDAS DATETIME FORMAT\n",
    "    #drop row with null startDateTime and endDateTime\n",
    "    data = data.dropna(subset=['startDate', 'startTime', 'endDate', 'endTime'])\n",
    "    data['startDateTime'] = data.apply(lambda x: pd.to_datetime(\n",
    "        x['startDate'][:10] + ' ' + x['startTime'][:8],\n",
    "        format='%Y-%m-%d %H:%M:%S'),\n",
    "                                       axis=1)\n",
    "#     data['endDateTime'] = data.apply(\n",
    "#         lambda x: pd.to_datetime(x['endDate'][:10] + ' ' + x['endTime'][:8],\n",
    "#                                  format='%Y-%m-%d %H:%M:%S'),\n",
    "#         axis=1)\n",
    "\n",
    "    #data['pubTimeStamp_pd'] = data.apply(lambda x: pd.to_datetimetime(x['pubTimeStamp'], format='%Y-%m-%d %H:%M:%S'), axis=1)\n",
    "\n",
    "    #------------------------------------------------------------------------------------------------------------------\n",
    "    #SLICE DATA FROM 2018-9-01 to 2019-8-31\n",
    "    data = data.loc[(data['startDateTime'] > '2018-9-01')\n",
    "                    & (data['startDateTime'] < '2019-8-31')]\n",
    "    \n",
    "    print('mean trip distance: ', data['tripDistance'].mean()/5280)\n",
    "    print('median trip distance: ', data['tripDistance'].median()/5280)\n",
    "    print('mean trip duration: ', data['tripDuration'].mean())\n",
    "    print('median trip duration: ', data['tripDuration'].median())\n",
    "\n",
    "trip_stat_raw()"
   ]
  },
  {
   "cell_type": "markdown",
   "metadata": {},
   "source": [
    "## Trips trend over time"
   ]
  },
  {
   "cell_type": "markdown",
   "metadata": {},
   "source": [
    "### Daily trip count"
   ]
  },
  {
   "cell_type": "code",
   "execution_count": 17,
   "metadata": {
    "ExecuteTime": {
     "end_time": "2020-07-11T23:08:56.350642Z",
     "start_time": "2020-07-11T23:08:50.251324Z"
    }
   },
   "outputs": [
    {
     "data": {
      "image/png": "[encoded data removed]",
      "text/plain": [
       "<Figure size 720x360 with 1 Axes>"
      ]
     },
     "metadata": {},
     "output_type": "display_data"
    }
   ],
   "source": [
    "fig, ax = plt.subplots(figsize=(10, 5))\n",
    "\n",
    "data['startDateTime'].value_counts().resample('D').sum().plot.line(ax=ax)\n",
    "\n",
    "#axis label\n",
    "# _ = plt.title('Daily Trip count', fontsize=13)\n",
    "_ = plt.xlabel('Months', fontsize=13)\n",
    "_ = plt.ylabel('Number of trips', fontsize=13)\n",
    "_ = ax.tick_params(axis='both', which='major', labelsize=11)\n",
    "_ = ax.tick_params(axis='both', which='minor', labelsize=11)\n",
    "\n",
    "style.use('seaborn-darkgrid')\n",
    "plt.tight_layout()\n",
    "plt.savefig('results/TemporalDistribution_AllData_DailyTrips_Year.png', dpi=900)"
   ]
  },
  {
   "cell_type": "markdown",
   "metadata": {},
   "source": [
    "### Average hourly for week"
   ]
  },
  {
   "cell_type": "code",
   "execution_count": 7,
   "metadata": {
    "ExecuteTime": {
     "end_time": "2020-07-10T19:49:53.323938Z",
     "start_time": "2020-07-10T19:49:52.626766Z"
    }
   },
   "outputs": [
    {
     "data": {
      "text/html": [
       "<div>\n",
       "<style scoped>\n",
       "    .dataframe tbody tr th:only-of-type {\n",
       "        vertical-align: middle;\n",
       "    }\n",
       "\n",
       "    .dataframe tbody tr th {\n",
       "        vertical-align: top;\n",
       "    }\n",
       "\n",
       "    .dataframe thead th {\n",
       "        text-align: right;\n",
       "    }\n",
       "</style>\n",
       "<table border=\"1\" class=\"dataframe\">\n",
       "  <thead>\n",
       "    <tr style=\"text-align: right;\">\n",
       "      <th></th>\n",
       "      <th>index</th>\n",
       "      <th>hourly_count</th>\n",
       "      <th>week_day</th>\n",
       "      <th>hour_no</th>\n",
       "    </tr>\n",
       "  </thead>\n",
       "  <tbody>\n",
       "    <tr>\n",
       "      <th>0</th>\n",
       "      <td>2018-09-01 12:00:00</td>\n",
       "      <td>7</td>\n",
       "      <td>5</td>\n",
       "      <td>12</td>\n",
       "    </tr>\n",
       "    <tr>\n",
       "      <th>1</th>\n",
       "      <td>2018-09-01 13:00:00</td>\n",
       "      <td>15</td>\n",
       "      <td>5</td>\n",
       "      <td>13</td>\n",
       "    </tr>\n",
       "    <tr>\n",
       "      <th>2</th>\n",
       "      <td>2018-09-01 14:00:00</td>\n",
       "      <td>56</td>\n",
       "      <td>5</td>\n",
       "      <td>14</td>\n",
       "    </tr>\n",
       "    <tr>\n",
       "      <th>3</th>\n",
       "      <td>2018-09-01 15:00:00</td>\n",
       "      <td>60</td>\n",
       "      <td>5</td>\n",
       "      <td>15</td>\n",
       "    </tr>\n",
       "    <tr>\n",
       "      <th>4</th>\n",
       "      <td>2018-09-01 16:00:00</td>\n",
       "      <td>117</td>\n",
       "      <td>5</td>\n",
       "      <td>16</td>\n",
       "    </tr>\n",
       "  </tbody>\n",
       "</table>\n",
       "</div>"
      ],
      "text/plain": [
       "                index  hourly_count  week_day  hour_no\n",
       "0 2018-09-01 12:00:00             7         5       12\n",
       "1 2018-09-01 13:00:00            15         5       13\n",
       "2 2018-09-01 14:00:00            56         5       14\n",
       "3 2018-09-01 15:00:00            60         5       15\n",
       "4 2018-09-01 16:00:00           117         5       16"
      ]
     },
     "execution_count": 7,
     "metadata": {},
     "output_type": "execute_result"
    }
   ],
   "source": [
    "#resample data by Hour and count number fo trips starting at that hour\n",
    "weekday_avg_count = pd.DataFrame(\n",
    "    data['startDateTime'].value_counts().resample('H').count()).rename(\n",
    "        columns={'startDateTime': 'hourly_count'}).reset_index()\n",
    "\n",
    "# #creating column for weekday no\n",
    "\n",
    "weekday_avg_count['week_day'] = weekday_avg_count.apply(lambda x: x['index'].weekday(), axis=1)\n",
    "weekday_avg_count['hour_no'] = weekday_avg_count.apply(lambda x: x['index'].hour, axis=1)\n",
    "\n",
    "weekday_avg_count.head()"
   ]
  },
  {
   "cell_type": "markdown",
   "metadata": {},
   "source": [
    "#### Statistics for scooter trips for weekend"
   ]
  },
  {
   "cell_type": "code",
   "execution_count": 8,
   "metadata": {
    "ExecuteTime": {
     "end_time": "2020-07-10T19:49:53.332905Z",
     "start_time": "2020-07-10T19:49:53.325897Z"
    }
   },
   "outputs": [
    {
     "name": "stdout",
     "output_type": "stream",
     "text": [
      "ratio of typical weekend trip number by weekday 1.8423483314549733\n",
      "proportion of trips higher in weekend than weekday 0.8423483314549732\n"
     ]
    }
   ],
   "source": [
    "average_per_day=weekday_avg_count.groupby(['week_day'])['hourly_count'].mean()\n",
    "typical_weekday=average_per_day[:3].mean()\n",
    "typical_weekend=average_per_day[-2:].mean()\n",
    "\n",
    "print('ratio of typical weekend trip number by weekday',typical_weekend/typical_weekday)\n",
    "print('proportion of trips higher in weekend than weekday',(typical_weekend-typical_weekday)/typical_weekday)"
   ]
  },
  {
   "cell_type": "code",
   "execution_count": 15,
   "metadata": {
    "ExecuteTime": {
     "end_time": "2020-07-11T23:06:50.672197Z",
     "start_time": "2020-07-11T23:06:49.964040Z"
    }
   },
   "outputs": [
    {
     "data": {
      "image/png": "[encoded data removed]",
      "text/plain": [
       "<Figure size 792x288 with 1 Axes>"
      ]
     },
     "metadata": {},
     "output_type": "display_data"
    }
   ],
   "source": [
    "# weekday_avg_count.groupby(['week_day', 'hour_no'])['hourly_count'].mean().plot()\n",
    "\n",
    "fig, ax = plt.subplots(figsize=(11, 4))\n",
    "\n",
    "weekday_avg_count.groupby(['week_day',\n",
    "                           'hour_no'])['hourly_count'].mean().plot(ax=ax)\n",
    "for x in np.arange(0, 169, 24):\n",
    "    ax.axvline(x=x, color='red', linewidth=0.9, linestyle='--')\n",
    "\n",
    "day_label = ['Mon', 'Tue', 'Wed', 'Thrus', 'Fri', 'Sat', 'Sun']\n",
    "for x in np.arange(1, 8, 1):\n",
    "    ax.text(-14 + 24 * x, -50, day_label[x - 1], color='black', fontsize=11)\n",
    "\n",
    "# axis tick label\n",
    "# ax.set_yticklabels['12,24']\n",
    "\n",
    "# # ax.xaxis.set_minor_locator(MultipleLocator(12))\n",
    "# ax.xaxis.set_major_locator(MultipleLocator(12))\n",
    "# ax.set_xticklabels(\n",
    "#     [0, 0, 12, 24, 12, 24, 12, 24, 12, 24, 12, 24, 12, 24, 12, 24])\n",
    "plt.xticks(np.arange(0,24*7+7,12),['']+['12 pm','12 am']*7+['12 am'])\n",
    "\n",
    "\n",
    "#axis label\n",
    "plt.xlabel('Time of the week', fontsize=13,labelpad=15)\n",
    "plt.ylabel('Average numnber of trips', fontsize=13)\n",
    "\n",
    "_ = ax.tick_params(axis='both', which='major', labelsize=11)\n",
    "_ = ax.tick_params(axis='both', which='minor', labelsize=11)\n",
    "\n",
    "plt.tight_layout()\n",
    "plt.savefig('results/TemporalDistribution_AllTrips_TimeOfWeek.png', dpi=300)"
   ]
  },
  {
   "cell_type": "markdown",
   "metadata": {},
   "source": [
    "### 15 days with the highest trip count"
   ]
  },
  {
   "cell_type": "code",
   "execution_count": 10,
   "metadata": {
    "ExecuteTime": {
     "end_time": "2020-07-08T19:08:11.536523Z",
     "start_time": "2020-07-08T19:08:11.067744Z"
    }
   },
   "outputs": [
    {
     "data": {
      "text/plain": [
       "DatetimeIndex(['2019-04-27', '2019-04-26', '2019-05-25', '2019-05-26',\n",
       "               '2019-05-18', '2019-06-08', '2019-06-01', '2019-04-25',\n",
       "               '2019-05-04', '2019-04-28', '2019-05-17', '2019-06-15',\n",
       "               '2019-04-13', '2019-06-02', '2019-05-27'],\n",
       "              dtype='datetime64[ns]', freq=None)"
      ]
     },
     "execution_count": 10,
     "metadata": {},
     "output_type": "execute_result"
    }
   ],
   "source": [
    "data['startDateTime'].value_counts().resample('D').sum().sort_values(ascending=False)[:15].index"
   ]
  },
  {
   "cell_type": "markdown",
   "metadata": {},
   "source": [
    "## Trip statistics"
   ]
  },
  {
   "cell_type": "markdown",
   "metadata": {},
   "source": [
    "### Trip distance"
   ]
  },
  {
   "cell_type": "code",
   "execution_count": 11,
   "metadata": {
    "ExecuteTime": {
     "end_time": "2020-07-08T19:08:12.027211Z",
     "start_time": "2020-07-08T19:08:11.537489Z"
    }
   },
   "outputs": [
    {
     "data": {
      "image/png": "[encoded data removed]",
      "text/plain": [
       "<Figure size 720x324 with 2 Axes>"
      ]
     },
     "metadata": {},
     "output_type": "display_data"
    }
   ],
   "source": [
    "fig, ax = plt.subplots(figsize=(10, 4.5))\n",
    "\n",
    "ax2 = ax.twinx()\n",
    "data.hist('tripDistance_miles', ax=ax, bins=40)\n",
    "data_distance = data[['tripDistance_miles']]\n",
    "\n",
    "# evaluate the histogram\n",
    "values, base = np.histogram(data_distance, bins=50)\n",
    "# plt.suptitle('')\n",
    "\n",
    "#evaluate the cumulative\n",
    "cumulative = np.cumsum(values)\n",
    "\n",
    "# plot the cumulative function\n",
    "ax2.plot(base[:-1],\n",
    "         cumulative / cumulative[-1] * 100,\n",
    "         color='black',\n",
    "         linewidth=1.5)\n",
    "ax2.set_ylabel('Cummulative percentage')\n",
    "\n",
    "ax.grid(color='w', linestyle='-', axis='y', linewidth=0)\n",
    "ax2.grid(color='w', linestyle='-', linewidth=1)\n",
    "\n",
    "# plt.title('Trip Distance', fontsize=13)\n",
    "\n",
    "ax.set_xlabel('Trip Distance (in miles)', fontsize=11)\n",
    "ax.set_ylabel('Number of trips', fontsize=11)\n",
    "ax.tick_params(axis='both', which='major', labelsize=9)\n",
    "ax.tick_params(axis='both', which='minor', labelsize=9)\n",
    "ax2.tick_params(axis='both', which='minor', labelsize=9)\n",
    "\n",
    "#plt.title('Trip distance cummulative distribution')\n",
    "plt.tight_layout()\n",
    "# plt.savefig('plots/Trip_distance_plot.png', dpi=900)"
   ]
  },
  {
   "cell_type": "markdown",
   "metadata": {},
   "source": [
    "### Trip duration"
   ]
  },
  {
   "cell_type": "code",
   "execution_count": 12,
   "metadata": {
    "ExecuteTime": {
     "end_time": "2020-07-08T19:08:12.348350Z",
     "start_time": "2020-07-08T19:08:12.028178Z"
    }
   },
   "outputs": [
    {
     "data": {
      "image/png": "[encoded data removed]",
      "text/plain": [
       "<Figure size 720x324 with 2 Axes>"
      ]
     },
     "metadata": {},
     "output_type": "display_data"
    }
   ],
   "source": [
    "fig, ax = plt.subplots(figsize=(10, 4.5))\n",
    "\n",
    "ax2 = ax.twinx()\n",
    "data.hist('tripDuration', ax=ax, bins=40)\n",
    "data_distance = data[['tripDuration']]\n",
    "\n",
    "# evaluate the histogram\n",
    "values, base = np.histogram(data_distance, bins=50)\n",
    "# plt.suptitle('')\n",
    "\n",
    "#evaluate the cumulative\n",
    "cumulative = np.cumsum(values)\n",
    "\n",
    "# plot the cumulative function\n",
    "ax2.plot(base[:-1],\n",
    "         cumulative / cumulative[-1] * 100,\n",
    "         color='black',\n",
    "         linewidth=1.5)\n",
    "ax2.set_ylabel('Cummulative percentage')\n",
    "\n",
    "ax.grid(color='w', linestyle='-', axis='y', linewidth=0)\n",
    "ax2.grid(color='w', linestyle='-', linewidth=1)\n",
    "\n",
    "# plt.title('Trip Distance', fontsize=13)\n",
    "\n",
    "ax.set_xlabel('Trip Duration (in minutes)', fontsize=11)\n",
    "ax.set_ylabel('Number of trips', fontsize=11)\n",
    "ax.tick_params(axis='both', which='major', labelsize=9)\n",
    "ax.tick_params(axis='both', which='minor', labelsize=9)\n",
    "ax2.tick_params(axis='both', which='minor', labelsize=9)\n",
    "\n",
    "#plt.title('Trip distance cummulative distribution')\n",
    "plt.tight_layout()\n",
    "# plt.savefig('plots/Trip_duration_plot.png', dpi=900)"
   ]
  },
  {
   "cell_type": "markdown",
   "metadata": {},
   "source": [
    "## Descriptive statistics of variables"
   ]
  },
  {
   "cell_type": "code",
   "execution_count": 13,
   "metadata": {
    "ExecuteTime": {
     "end_time": "2020-07-08T19:08:22.840052Z",
     "start_time": "2020-07-08T19:08:12.349361Z"
    }
   },
   "outputs": [
    {
     "name": "stdout",
     "output_type": "stream",
     "text": [
      "0    709106\n",
      "1    340935\n",
      "Name: weekend_trip, dtype: int64\n",
      "0    905988\n",
      "1    144053\n",
      "Name: high_trip_count_day, dtype: int64\n",
      "0    1026100\n",
      "1      23941\n",
      "Name: StartTime_AMPeak, dtype: int64\n",
      "0    840140\n",
      "1    209901\n",
      "Name: StartTime_Day, dtype: int64\n",
      "0    708008\n",
      "1    342033\n",
      "Name: StartTime_PMPeak, dtype: int64\n",
      "0    575875\n",
      "1    474166\n",
      "Name: StartTime_Night, dtype: int64\n"
     ]
    },
    {
     "data": {
      "text/html": [
       "<div>\n",
       "<style scoped>\n",
       "    .dataframe tbody tr th:only-of-type {\n",
       "        vertical-align: middle;\n",
       "    }\n",
       "\n",
       "    .dataframe tbody tr th {\n",
       "        vertical-align: top;\n",
       "    }\n",
       "\n",
       "    .dataframe thead th {\n",
       "        text-align: right;\n",
       "    }\n",
       "</style>\n",
       "<table border=\"1\" class=\"dataframe\">\n",
       "  <thead>\n",
       "    <tr style=\"text-align: right;\">\n",
       "      <th></th>\n",
       "      <th>count</th>\n",
       "      <th>mean</th>\n",
       "      <th>std</th>\n",
       "      <th>min</th>\n",
       "      <th>25%</th>\n",
       "      <th>50%</th>\n",
       "      <th>75%</th>\n",
       "      <th>max</th>\n",
       "    </tr>\n",
       "  </thead>\n",
       "  <tbody>\n",
       "    <tr>\n",
       "      <th>Trip distance (miles)</th>\n",
       "      <td>1050041.0</td>\n",
       "      <td>0.72</td>\n",
       "      <td>1.02</td>\n",
       "      <td>0.00</td>\n",
       "      <td>0.08</td>\n",
       "      <td>0.31</td>\n",
       "      <td>0.99</td>\n",
       "      <td>10.00</td>\n",
       "    </tr>\n",
       "    <tr>\n",
       "      <th>Trip duration (minutes)</th>\n",
       "      <td>1050041.0</td>\n",
       "      <td>16.41</td>\n",
       "      <td>17.82</td>\n",
       "      <td>1.00</td>\n",
       "      <td>5.82</td>\n",
       "      <td>10.82</td>\n",
       "      <td>20.00</td>\n",
       "      <td>180.00</td>\n",
       "    </tr>\n",
       "    <tr>\n",
       "      <th>Route directness ratio</th>\n",
       "      <td>1050041.0</td>\n",
       "      <td>0.55</td>\n",
       "      <td>0.30</td>\n",
       "      <td>0.00</td>\n",
       "      <td>0.30</td>\n",
       "      <td>0.62</td>\n",
       "      <td>0.81</td>\n",
       "      <td>1.00</td>\n",
       "    </tr>\n",
       "    <tr>\n",
       "      <th>Average trip speed (mph)</th>\n",
       "      <td>1050041.0</td>\n",
       "      <td>2.97</td>\n",
       "      <td>2.97</td>\n",
       "      <td>0.00</td>\n",
       "      <td>0.46</td>\n",
       "      <td>2.14</td>\n",
       "      <td>4.95</td>\n",
       "      <td>304.29</td>\n",
       "    </tr>\n",
       "    <tr>\n",
       "      <th>Trips on special event</th>\n",
       "      <td>1050041.0</td>\n",
       "      <td>0.14</td>\n",
       "      <td>0.34</td>\n",
       "      <td>0.00</td>\n",
       "      <td>0.00</td>\n",
       "      <td>0.00</td>\n",
       "      <td>0.00</td>\n",
       "      <td>1.00</td>\n",
       "    </tr>\n",
       "    <tr>\n",
       "      <th>Weekend trips</th>\n",
       "      <td>1050041.0</td>\n",
       "      <td>0.32</td>\n",
       "      <td>0.47</td>\n",
       "      <td>0.00</td>\n",
       "      <td>0.00</td>\n",
       "      <td>0.00</td>\n",
       "      <td>1.00</td>\n",
       "      <td>1.00</td>\n",
       "    </tr>\n",
       "    <tr>\n",
       "      <th>Trip during 7 am and 10 am</th>\n",
       "      <td>1050041.0</td>\n",
       "      <td>0.02</td>\n",
       "      <td>0.15</td>\n",
       "      <td>0.00</td>\n",
       "      <td>0.00</td>\n",
       "      <td>0.00</td>\n",
       "      <td>0.00</td>\n",
       "      <td>1.00</td>\n",
       "    </tr>\n",
       "    <tr>\n",
       "      <th>Trip during 10 am and 4 pm</th>\n",
       "      <td>1050041.0</td>\n",
       "      <td>0.20</td>\n",
       "      <td>0.40</td>\n",
       "      <td>0.00</td>\n",
       "      <td>0.00</td>\n",
       "      <td>0.00</td>\n",
       "      <td>0.00</td>\n",
       "      <td>1.00</td>\n",
       "    </tr>\n",
       "    <tr>\n",
       "      <th>Trip during 4 pm and 8 pm</th>\n",
       "      <td>1050041.0</td>\n",
       "      <td>0.33</td>\n",
       "      <td>0.47</td>\n",
       "      <td>0.00</td>\n",
       "      <td>0.00</td>\n",
       "      <td>0.00</td>\n",
       "      <td>1.00</td>\n",
       "      <td>1.00</td>\n",
       "    </tr>\n",
       "    <tr>\n",
       "      <th>Trip during 8 pm and 7 am</th>\n",
       "      <td>1050041.0</td>\n",
       "      <td>0.45</td>\n",
       "      <td>0.50</td>\n",
       "      <td>0.00</td>\n",
       "      <td>0.00</td>\n",
       "      <td>0.00</td>\n",
       "      <td>1.00</td>\n",
       "      <td>1.00</td>\n",
       "    </tr>\n",
       "    <tr>\n",
       "      <th>Average daily precipitation</th>\n",
       "      <td>1050041.0</td>\n",
       "      <td>0.14</td>\n",
       "      <td>0.35</td>\n",
       "      <td>0.00</td>\n",
       "      <td>0.00</td>\n",
       "      <td>0.00</td>\n",
       "      <td>0.08</td>\n",
       "      <td>4.00</td>\n",
       "    </tr>\n",
       "    <tr>\n",
       "      <th>Average daily temperature</th>\n",
       "      <td>1050041.0</td>\n",
       "      <td>64.75</td>\n",
       "      <td>14.61</td>\n",
       "      <td>24.00</td>\n",
       "      <td>53.00</td>\n",
       "      <td>68.00</td>\n",
       "      <td>78.00</td>\n",
       "      <td>85.00</td>\n",
       "    </tr>\n",
       "    <tr>\n",
       "      <th>Proportion of CBD land use at origin</th>\n",
       "      <td>1050041.0</td>\n",
       "      <td>0.66</td>\n",
       "      <td>0.33</td>\n",
       "      <td>0.00</td>\n",
       "      <td>0.44</td>\n",
       "      <td>0.87</td>\n",
       "      <td>0.90</td>\n",
       "      <td>0.90</td>\n",
       "    </tr>\n",
       "    <tr>\n",
       "      <th>Proportion of urban land use at origin</th>\n",
       "      <td>1050041.0</td>\n",
       "      <td>0.23</td>\n",
       "      <td>0.33</td>\n",
       "      <td>0.00</td>\n",
       "      <td>0.00</td>\n",
       "      <td>0.00</td>\n",
       "      <td>0.46</td>\n",
       "      <td>0.90</td>\n",
       "    </tr>\n",
       "    <tr>\n",
       "      <th>Proportion of sub-urban land use at origin</th>\n",
       "      <td>1050041.0</td>\n",
       "      <td>0.00</td>\n",
       "      <td>0.01</td>\n",
       "      <td>0.00</td>\n",
       "      <td>0.00</td>\n",
       "      <td>0.00</td>\n",
       "      <td>0.00</td>\n",
       "      <td>0.60</td>\n",
       "    </tr>\n",
       "    <tr>\n",
       "      <th>Proportion of rural land use at origin</th>\n",
       "      <td>1050041.0</td>\n",
       "      <td>0.00</td>\n",
       "      <td>0.00</td>\n",
       "      <td>0.00</td>\n",
       "      <td>0.00</td>\n",
       "      <td>0.00</td>\n",
       "      <td>0.00</td>\n",
       "      <td>0.00</td>\n",
       "    </tr>\n",
       "    <tr>\n",
       "      <th>Average population density at origin</th>\n",
       "      <td>1050041.0</td>\n",
       "      <td>8137.08</td>\n",
       "      <td>4665.16</td>\n",
       "      <td>0.00</td>\n",
       "      <td>5009.70</td>\n",
       "      <td>7471.16</td>\n",
       "      <td>11055.76</td>\n",
       "      <td>18555.69</td>\n",
       "    </tr>\n",
       "    <tr>\n",
       "      <th>Average employment density at origin</th>\n",
       "      <td>1050041.0</td>\n",
       "      <td>74560.58</td>\n",
       "      <td>70045.31</td>\n",
       "      <td>24.54</td>\n",
       "      <td>14494.80</td>\n",
       "      <td>50332.81</td>\n",
       "      <td>137875.77</td>\n",
       "      <td>229577.11</td>\n",
       "    </tr>\n",
       "    <tr>\n",
       "      <th>Average parking density at origin</th>\n",
       "      <td>1050041.0</td>\n",
       "      <td>12622.29</td>\n",
       "      <td>16216.93</td>\n",
       "      <td>0.00</td>\n",
       "      <td>254.90</td>\n",
       "      <td>2713.00</td>\n",
       "      <td>25670.51</td>\n",
       "      <td>53492.32</td>\n",
       "    </tr>\n",
       "    <tr>\n",
       "      <th>Intersection density (per sq. miles) at origin</th>\n",
       "      <td>1050041.0</td>\n",
       "      <td>536.47</td>\n",
       "      <td>144.46</td>\n",
       "      <td>20.72</td>\n",
       "      <td>455.84</td>\n",
       "      <td>549.08</td>\n",
       "      <td>652.68</td>\n",
       "      <td>808.08</td>\n",
       "    </tr>\n",
       "    <tr>\n",
       "      <th>Entropy at origin</th>\n",
       "      <td>1050041.0</td>\n",
       "      <td>0.66</td>\n",
       "      <td>0.25</td>\n",
       "      <td>-0.00</td>\n",
       "      <td>0.59</td>\n",
       "      <td>0.75</td>\n",
       "      <td>0.83</td>\n",
       "      <td>0.93</td>\n",
       "    </tr>\n",
       "    <tr>\n",
       "      <th>Proportion of CBD land use at destination</th>\n",
       "      <td>1050041.0</td>\n",
       "      <td>0.66</td>\n",
       "      <td>0.33</td>\n",
       "      <td>0.00</td>\n",
       "      <td>0.42</td>\n",
       "      <td>0.87</td>\n",
       "      <td>0.90</td>\n",
       "      <td>0.90</td>\n",
       "    </tr>\n",
       "    <tr>\n",
       "      <th>Proportion of urban land use at destination</th>\n",
       "      <td>1050041.0</td>\n",
       "      <td>0.23</td>\n",
       "      <td>0.33</td>\n",
       "      <td>0.00</td>\n",
       "      <td>0.00</td>\n",
       "      <td>0.00</td>\n",
       "      <td>0.48</td>\n",
       "      <td>0.90</td>\n",
       "    </tr>\n",
       "    <tr>\n",
       "      <th>Proportion of sub-urban land use at destination</th>\n",
       "      <td>1050041.0</td>\n",
       "      <td>0.00</td>\n",
       "      <td>0.01</td>\n",
       "      <td>0.00</td>\n",
       "      <td>0.00</td>\n",
       "      <td>0.00</td>\n",
       "      <td>0.00</td>\n",
       "      <td>0.60</td>\n",
       "    </tr>\n",
       "    <tr>\n",
       "      <th>Proportion of rural land use at destination</th>\n",
       "      <td>1050041.0</td>\n",
       "      <td>0.00</td>\n",
       "      <td>0.00</td>\n",
       "      <td>0.00</td>\n",
       "      <td>0.00</td>\n",
       "      <td>0.00</td>\n",
       "      <td>0.00</td>\n",
       "      <td>0.00</td>\n",
       "    </tr>\n",
       "    <tr>\n",
       "      <th>Average population density at destination</th>\n",
       "      <td>1050041.0</td>\n",
       "      <td>8039.68</td>\n",
       "      <td>4619.75</td>\n",
       "      <td>0.00</td>\n",
       "      <td>4978.78</td>\n",
       "      <td>7649.22</td>\n",
       "      <td>10581.71</td>\n",
       "      <td>18555.69</td>\n",
       "    </tr>\n",
       "    <tr>\n",
       "      <th>Average employment density at destination</th>\n",
       "      <td>1050041.0</td>\n",
       "      <td>75594.81</td>\n",
       "      <td>70944.77</td>\n",
       "      <td>24.54</td>\n",
       "      <td>13524.36</td>\n",
       "      <td>50332.81</td>\n",
       "      <td>137875.77</td>\n",
       "      <td>229577.11</td>\n",
       "    </tr>\n",
       "    <tr>\n",
       "      <th>Average parking density at destination</th>\n",
       "      <td>1050041.0</td>\n",
       "      <td>12901.98</td>\n",
       "      <td>16402.38</td>\n",
       "      <td>0.00</td>\n",
       "      <td>140.44</td>\n",
       "      <td>2713.00</td>\n",
       "      <td>25670.51</td>\n",
       "      <td>53492.32</td>\n",
       "    </tr>\n",
       "    <tr>\n",
       "      <th>Intersection density (per sq. miles) at destination</th>\n",
       "      <td>1050041.0</td>\n",
       "      <td>535.63</td>\n",
       "      <td>145.50</td>\n",
       "      <td>20.72</td>\n",
       "      <td>455.84</td>\n",
       "      <td>549.08</td>\n",
       "      <td>652.68</td>\n",
       "      <td>808.08</td>\n",
       "    </tr>\n",
       "    <tr>\n",
       "      <th>Entropy at destination</th>\n",
       "      <td>1050041.0</td>\n",
       "      <td>0.64</td>\n",
       "      <td>0.27</td>\n",
       "      <td>-0.00</td>\n",
       "      <td>0.55</td>\n",
       "      <td>0.75</td>\n",
       "      <td>0.83</td>\n",
       "      <td>0.93</td>\n",
       "    </tr>\n",
       "  </tbody>\n",
       "</table>\n",
       "</div>"
      ],
      "text/plain": [
       "                                                        count      mean  \\\n",
       "Trip distance (miles)                               1050041.0      0.72   \n",
       "Trip duration (minutes)                             1050041.0     16.41   \n",
       "Route directness ratio                              1050041.0      0.55   \n",
       "Average trip speed (mph)                            1050041.0      2.97   \n",
       "Trips on special event                              1050041.0      0.14   \n",
       "Weekend trips                                       1050041.0      0.32   \n",
       "Trip during 7 am and 10 am                          1050041.0      0.02   \n",
       "Trip during 10 am and 4 pm                          1050041.0      0.20   \n",
       "Trip during 4 pm and 8 pm                           1050041.0      0.33   \n",
       "Trip during 8 pm and 7 am                           1050041.0      0.45   \n",
       "Average daily precipitation                         1050041.0      0.14   \n",
       "Average daily temperature                           1050041.0     64.75   \n",
       "Proportion of CBD land use at origin                1050041.0      0.66   \n",
       "Proportion of urban land use at origin              1050041.0      0.23   \n",
       "Proportion of sub-urban land use at origin          1050041.0      0.00   \n",
       "Proportion of rural land use at origin              1050041.0      0.00   \n",
       "Average population density at origin                1050041.0   8137.08   \n",
       "Average employment density at origin                1050041.0  74560.58   \n",
       "Average parking density at origin                   1050041.0  12622.29   \n",
       "Intersection density (per sq. miles) at origin      1050041.0    536.47   \n",
       "Entropy at origin                                   1050041.0      0.66   \n",
       "Proportion of CBD land use at destination           1050041.0      0.66   \n",
       "Proportion of urban land use at destination         1050041.0      0.23   \n",
       "Proportion of sub-urban land use at destination     1050041.0      0.00   \n",
       "Proportion of rural land use at destination         1050041.0      0.00   \n",
       "Average population density at destination           1050041.0   8039.68   \n",
       "Average employment density at destination           1050041.0  75594.81   \n",
       "Average parking density at destination              1050041.0  12901.98   \n",
       "Intersection density (per sq. miles) at destina...  1050041.0    535.63   \n",
       "Entropy at destination                              1050041.0      0.64   \n",
       "\n",
       "                                                         std    min       25%  \\\n",
       "Trip distance (miles)                                   1.02   0.00      0.08   \n",
       "Trip duration (minutes)                                17.82   1.00      5.82   \n",
       "Route directness ratio                                  0.30   0.00      0.30   \n",
       "Average trip speed (mph)                                2.97   0.00      0.46   \n",
       "Trips on special event                                  0.34   0.00      0.00   \n",
       "Weekend trips                                           0.47   0.00      0.00   \n",
       "Trip during 7 am and 10 am                              0.15   0.00      0.00   \n",
       "Trip during 10 am and 4 pm                              0.40   0.00      0.00   \n",
       "Trip during 4 pm and 8 pm                               0.47   0.00      0.00   \n",
       "Trip during 8 pm and 7 am                               0.50   0.00      0.00   \n",
       "Average daily precipitation                             0.35   0.00      0.00   \n",
       "Average daily temperature                              14.61  24.00     53.00   \n",
       "Proportion of CBD land use at origin                    0.33   0.00      0.44   \n",
       "Proportion of urban land use at origin                  0.33   0.00      0.00   \n",
       "Proportion of sub-urban land use at origin              0.01   0.00      0.00   \n",
       "Proportion of rural land use at origin                  0.00   0.00      0.00   \n",
       "Average population density at origin                 4665.16   0.00   5009.70   \n",
       "Average employment density at origin                70045.31  24.54  14494.80   \n",
       "Average parking density at origin                   16216.93   0.00    254.90   \n",
       "Intersection density (per sq. miles) at origin        144.46  20.72    455.84   \n",
       "Entropy at origin                                       0.25  -0.00      0.59   \n",
       "Proportion of CBD land use at destination               0.33   0.00      0.42   \n",
       "Proportion of urban land use at destination             0.33   0.00      0.00   \n",
       "Proportion of sub-urban land use at destination         0.01   0.00      0.00   \n",
       "Proportion of rural land use at destination             0.00   0.00      0.00   \n",
       "Average population density at destination            4619.75   0.00   4978.78   \n",
       "Average employment density at destination           70944.77  24.54  13524.36   \n",
       "Average parking density at destination              16402.38   0.00    140.44   \n",
       "Intersection density (per sq. miles) at destina...    145.50  20.72    455.84   \n",
       "Entropy at destination                                  0.27  -0.00      0.55   \n",
       "\n",
       "                                                         50%        75%  \\\n",
       "Trip distance (miles)                                   0.31       0.99   \n",
       "Trip duration (minutes)                                10.82      20.00   \n",
       "Route directness ratio                                  0.62       0.81   \n",
       "Average trip speed (mph)                                2.14       4.95   \n",
       "Trips on special event                                  0.00       0.00   \n",
       "Weekend trips                                           0.00       1.00   \n",
       "Trip during 7 am and 10 am                              0.00       0.00   \n",
       "Trip during 10 am and 4 pm                              0.00       0.00   \n",
       "Trip during 4 pm and 8 pm                               0.00       1.00   \n",
       "Trip during 8 pm and 7 am                               0.00       1.00   \n",
       "Average daily precipitation                             0.00       0.08   \n",
       "Average daily temperature                              68.00      78.00   \n",
       "Proportion of CBD land use at origin                    0.87       0.90   \n",
       "Proportion of urban land use at origin                  0.00       0.46   \n",
       "Proportion of sub-urban land use at origin              0.00       0.00   \n",
       "Proportion of rural land use at origin                  0.00       0.00   \n",
       "Average population density at origin                 7471.16   11055.76   \n",
       "Average employment density at origin                50332.81  137875.77   \n",
       "Average parking density at origin                    2713.00   25670.51   \n",
       "Intersection density (per sq. miles) at origin        549.08     652.68   \n",
       "Entropy at origin                                       0.75       0.83   \n",
       "Proportion of CBD land use at destination               0.87       0.90   \n",
       "Proportion of urban land use at destination             0.00       0.48   \n",
       "Proportion of sub-urban land use at destination         0.00       0.00   \n",
       "Proportion of rural land use at destination             0.00       0.00   \n",
       "Average population density at destination            7649.22   10581.71   \n",
       "Average employment density at destination           50332.81  137875.77   \n",
       "Average parking density at destination               2713.00   25670.51   \n",
       "Intersection density (per sq. miles) at destina...    549.08     652.68   \n",
       "Entropy at destination                                  0.75       0.83   \n",
       "\n",
       "                                                          max  \n",
       "Trip distance (miles)                                   10.00  \n",
       "Trip duration (minutes)                                180.00  \n",
       "Route directness ratio                                   1.00  \n",
       "Average trip speed (mph)                               304.29  \n",
       "Trips on special event                                   1.00  \n",
       "Weekend trips                                            1.00  \n",
       "Trip during 7 am and 10 am                               1.00  \n",
       "Trip during 10 am and 4 pm                               1.00  \n",
       "Trip during 4 pm and 8 pm                                1.00  \n",
       "Trip during 8 pm and 7 am                                1.00  \n",
       "Average daily precipitation                              4.00  \n",
       "Average daily temperature                               85.00  \n",
       "Proportion of CBD land use at origin                     0.90  \n",
       "Proportion of urban land use at origin                   0.90  \n",
       "Proportion of sub-urban land use at origin               0.60  \n",
       "Proportion of rural land use at origin                   0.00  \n",
       "Average population density at origin                 18555.69  \n",
       "Average employment density at origin                229577.11  \n",
       "Average parking density at origin                    53492.32  \n",
       "Intersection density (per sq. miles) at origin         808.08  \n",
       "Entropy at origin                                        0.93  \n",
       "Proportion of CBD land use at destination                0.90  \n",
       "Proportion of urban land use at destination              0.90  \n",
       "Proportion of sub-urban land use at destination          0.60  \n",
       "Proportion of rural land use at destination              0.00  \n",
       "Average population density at destination            18555.69  \n",
       "Average employment density at destination           229577.11  \n",
       "Average parking density at destination               53492.32  \n",
       "Intersection density (per sq. miles) at destina...     808.08  \n",
       "Entropy at destination                                   0.93  "
      ]
     },
     "execution_count": 13,
     "metadata": {},
     "output_type": "execute_result"
    }
   ],
   "source": [
    "model_data = pd.read_csv(\n",
    "    '_Data/model data/model_data.csv')  #.sample(2000, random_state=0)\n",
    "\n",
    "## define variables for model\n",
    "trip_variables = [\n",
    "    'tripDistance_miles', 'tripDuration', 'route_directness_trace',\n",
    "    'average_trip_speed_mph', 'high_trip_count_day', 'weekend_trip',\n",
    "    'StartTime_AMPeak', 'StartTime_Day', 'StartTime_PMPeak', 'StartTime_Night',\n",
    "    'PRCP', 'TAVG'\n",
    "]\n",
    "\n",
    "landuse_variables = [\n",
    "    'MEAN_CBD_start',\n",
    "    'MEAN_URBAN_start',\n",
    "    'MEAN_SU_start',\n",
    "    'MEAN_RURAL_start',\n",
    "    'MEAN_POP_D_start',\n",
    "    'MEAN_EMP_D_start',\n",
    "    'MEAN_PAKING_start',\n",
    "    'intersection_density_start',\n",
    "    'enthropy_start',\n",
    "    'MEAN_CBD_end',\n",
    "    'MEAN_URBAN_end',\n",
    "    'MEAN_SU_end',\n",
    "    'MEAN_RURAL_end',\n",
    "    'MEAN_POP_D_end',\n",
    "    'MEAN_EMP_D_end',\n",
    "    'MEAN_PAKING_end',\n",
    "    'intersection_density_end',\n",
    "    'enthropy_end',\n",
    "]\n",
    "\n",
    "flag_variables = [\n",
    "    'PARK_start', 'VANDERBILT_start', 'NISSAN_start', 'PARK_end',\n",
    "    'VANDERBILT_end', 'NISSAN_end'\n",
    "]\n",
    "\n",
    "remaining_var = [\n",
    "    'trip_id', 'GRID_ID_start', 'GRID_ID_end', 'tripDistance',\n",
    "    'euclidean_distance', 'StartTime_decimal', 'trip_start_hour_no', 'DATE_str'\n",
    "]\n",
    "\n",
    "variable_forPCA = trip_variables + landuse_variables\n",
    "\n",
    "### rename variables\n",
    "\n",
    "rename_variables = {\n",
    "    'tripDistance_miles': 'Trip distance (miles)',\n",
    "    'tripDuration': 'Trip duration (minutes)',\n",
    "    'route_directness_trace': 'Route directness ratio',\n",
    "    'average_trip_speed_mph': 'Average trip speed (mph)',\n",
    "    'high_trip_count_day': 'Trips on special event',\n",
    "    'weekend_trip': 'Weekend trips',\n",
    "    'StartTime_AMPeak': 'Trip during 7 am and 10 am',\n",
    "    'StartTime_Day': 'Trip during 10 am and 4 pm',\n",
    "    'StartTime_PMPeak': 'Trip during 4 pm and 8 pm',\n",
    "    'StartTime_Night': 'Trip during 8 pm and 7 am',\n",
    "    'PRCP': 'Average daily precipitation',\n",
    "    'TAVG': 'Average daily temperature',\n",
    "    'MEAN_CBD_start': 'Proportion of CBD land use at origin',\n",
    "    'MEAN_URBAN_start': 'Proportion of urban land use at origin',\n",
    "    'MEAN_SU_start': 'Proportion of sub-urban land use at origin',\n",
    "    'MEAN_RURAL_start': 'Proportion of rural land use at origin',\n",
    "    'MEAN_POP_D_start': 'Average population density at origin',\n",
    "    'MEAN_EMP_D_start': 'Average employment density at origin',\n",
    "    'MEAN_PAKING_start': 'Average parking density at origin',\n",
    "    'intersection_density_start':\n",
    "    'Intersection density (per sq. miles) at origin',\n",
    "    'enthropy_start': 'Entropy at origin',\n",
    "    'MEAN_CBD_end': 'Proportion of CBD land use at destination',\n",
    "    'MEAN_URBAN_end': 'Proportion of urban land use at destination',\n",
    "    'MEAN_SU_end': 'Proportion of sub-urban land use at destination',\n",
    "    'MEAN_RURAL_end': 'Proportion of rural land use at destination',\n",
    "    'MEAN_POP_D_end': 'Average population density at destination',\n",
    "    'MEAN_EMP_D_end': 'Average employment density at destination',\n",
    "    'MEAN_PAKING_end': 'Average parking density at destination',\n",
    "    'intersection_density_end':\n",
    "    'Intersection density (per sq. miles) at destination',\n",
    "    'enthropy_end': 'Entropy at destination'\n",
    "}\n",
    "\n",
    "### descriptive stat of variables\n",
    "\n",
    "dummy_var = [\n",
    "    'weekend_trip', 'high_trip_count_day', 'StartTime_AMPeak', 'StartTime_Day',\n",
    "    'StartTime_PMPeak', 'StartTime_Night'\n",
    "]\n",
    "for var in dummy_var:\n",
    "    print(model_data[var].value_counts())\n",
    "\n",
    "descriptive_stat = round(\n",
    "    model_data[variable_forPCA].describe().transpose().rename(\n",
    "        index=rename_variables), 2)\n",
    "descriptive_stat.to_csv('results/model_data_descriptive_stat.csv')\n",
    "descriptive_stat\n",
    "\n",
    "## PCA variation explained"
   ]
  },
  {
   "cell_type": "code",
   "execution_count": null,
   "metadata": {},
   "outputs": [],
   "source": []
  }
 ],
 "metadata": {
  "kernelspec": {
   "display_name": "Python 3",
   "language": "python",
   "name": "python3"
  },
  "language_info": {
   "codemirror_mode": {
    "name": "ipython",
    "version": 3
   },
   "file_extension": ".py",
   "mimetype": "text/x-python",
   "name": "python",
   "nbconvert_exporter": "python",
   "pygments_lexer": "ipython3",
   "version": "3.7.4"
  },
  "toc": {
   "base_numbering": 1,
   "nav_menu": {},
   "number_sections": true,
   "sideBar": false,
   "skip_h1_title": false,
   "title_cell": "Table of Contents",
   "title_sidebar": "Contents",
   "toc_cell": false,
   "toc_position": {
    "height": "789px",
    "left": "1536px",
    "top": "91px",
    "width": "384px"
   },
   "toc_section_display": true,
   "toc_window_display": true
  },
  "varInspector": {
   "cols": {
    "lenName": 16,
    "lenType": 16,
    "lenVar": 40
   },
   "kernels_config": {
    "python": {
     "delete_cmd_postfix": "",
     "delete_cmd_prefix": "del ",
     "library": "var_list.py",
     "varRefreshCmd": "print(var_dic_list())"
    },
    "r": {
     "delete_cmd_postfix": ") ",
     "delete_cmd_prefix": "rm(",
     "library": "var_list.r",
     "varRefreshCmd": "cat(var_dic_list()) "
    }
   },
   "oldHeight": 250.79700000000003,
   "position": {
    "height": "272.795px",
    "left": "1607.99px",
    "right": "20px",
    "top": "593.99px",
    "width": "363.16px"
   },
   "types_to_exclude": [
    "module",
    "function",
    "builtin_function_or_method",
    "instance",
    "_Feature"
   ],
   "varInspector_section_display": "block",
   "window_display": false
  }
 },
 "nbformat": 4,
 "nbformat_minor": 2
}
