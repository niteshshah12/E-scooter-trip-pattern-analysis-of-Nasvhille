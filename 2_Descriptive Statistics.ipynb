{
 "cells": [
  {
   "cell_type": "code",
   "execution_count": 1,
   "metadata": {
    "ExecuteTime": {
     "end_time": "2021-09-17T13:23:47.281639Z",
     "start_time": "2021-09-17T13:23:40.732484Z"
    }
   },
   "outputs": [],
   "source": [
    "import pandas as pd\n",
    "import numpy as np\n",
    "\n",
    "import geopandas as gpd\n",
    "from shapely.geometry import Point, LineString\n",
    "\n",
    "#other library\n",
    "import ast\n",
    "from math import radians, cos, sin, asin, sqrt \n",
    "from shapely.geometry import Point, LineString\n",
    "\n",
    "import matplotlib.pyplot as plt\n",
    "from matplotlib.ticker import (MultipleLocator, FormatStrFormatter,\n",
    "                               AutoMinorLocator)\n",
    "\n",
    "\n",
    "import seaborn as sns\n",
    "from matplotlib import style\n",
    "style.use('seaborn-darkgrid')\n",
    "\n",
    "# import folium\n",
    "\n",
    "import ast\n",
    "\n",
    "%matplotlib inline"
   ]
  },
  {
   "cell_type": "markdown",
   "metadata": {},
   "source": [
    "# Read Data"
   ]
  },
  {
   "cell_type": "code",
   "execution_count": 2,
   "metadata": {
    "ExecuteTime": {
     "end_time": "2021-09-17T13:24:02.468773Z",
     "start_time": "2021-09-17T13:23:47.329192Z"
    }
   },
   "outputs": [
    {
     "data": {
      "text/html": [
       "<div>\n",
       "<style scoped>\n",
       "    .dataframe tbody tr th:only-of-type {\n",
       "        vertical-align: middle;\n",
       "    }\n",
       "\n",
       "    .dataframe tbody tr th {\n",
       "        vertical-align: top;\n",
       "    }\n",
       "\n",
       "    .dataframe thead th {\n",
       "        text-align: right;\n",
       "    }\n",
       "</style>\n",
       "<table border=\"1\" class=\"dataframe\">\n",
       "  <thead>\n",
       "    <tr style=\"text-align: right;\">\n",
       "      <th></th>\n",
       "      <th>Unnamed: 0</th>\n",
       "      <th>trip_id</th>\n",
       "      <th>companyName</th>\n",
       "      <th>tripRecordNum</th>\n",
       "      <th>sumdID</th>\n",
       "      <th>tripDuration</th>\n",
       "      <th>tripDistance</th>\n",
       "      <th>startLatitude</th>\n",
       "      <th>startLongitude</th>\n",
       "      <th>endLatitude</th>\n",
       "      <th>...</th>\n",
       "      <th>StartTime_PMPeak</th>\n",
       "      <th>StartTime_Night</th>\n",
       "      <th>StartTime_decimal</th>\n",
       "      <th>route_directness_trace</th>\n",
       "      <th>route_directness_rawDist</th>\n",
       "      <th>average_trip_speed_mph</th>\n",
       "      <th>trip_start_week_no</th>\n",
       "      <th>weekend_trip</th>\n",
       "      <th>start_date_str</th>\n",
       "      <th>high_trip_count_day</th>\n",
       "    </tr>\n",
       "  </thead>\n",
       "  <tbody>\n",
       "    <tr>\n",
       "      <th>0</th>\n",
       "      <td>1</td>\n",
       "      <td>9</td>\n",
       "      <td>Bird</td>\n",
       "      <td>BRD4</td>\n",
       "      <td>PoweredUNKWN</td>\n",
       "      <td>7.0</td>\n",
       "      <td>7007.87424</td>\n",
       "      <td>36.1651</td>\n",
       "      <td>-86.7785</td>\n",
       "      <td>36.1622</td>\n",
       "      <td>...</td>\n",
       "      <td>0</td>\n",
       "      <td>0</td>\n",
       "      <td>7.216667</td>\n",
       "      <td>0.381418</td>\n",
       "      <td>0.454174</td>\n",
       "      <td>11.376416</td>\n",
       "      <td>5</td>\n",
       "      <td>0</td>\n",
       "      <td>2018-09-01</td>\n",
       "      <td>0</td>\n",
       "    </tr>\n",
       "    <tr>\n",
       "      <th>1</th>\n",
       "      <td>2</td>\n",
       "      <td>10</td>\n",
       "      <td>Bird</td>\n",
       "      <td>BRD8</td>\n",
       "      <td>PoweredUNKWN</td>\n",
       "      <td>35.0</td>\n",
       "      <td>22473.75400</td>\n",
       "      <td>36.1760</td>\n",
       "      <td>-86.7871</td>\n",
       "      <td>36.1733</td>\n",
       "      <td>...</td>\n",
       "      <td>0</td>\n",
       "      <td>0</td>\n",
       "      <td>7.233333</td>\n",
       "      <td>0.042463</td>\n",
       "      <td>0.047480</td>\n",
       "      <td>7.296671</td>\n",
       "      <td>5</td>\n",
       "      <td>0</td>\n",
       "      <td>2018-09-01</td>\n",
       "      <td>0</td>\n",
       "    </tr>\n",
       "    <tr>\n",
       "      <th>2</th>\n",
       "      <td>3</td>\n",
       "      <td>11</td>\n",
       "      <td>Bird</td>\n",
       "      <td>BRD9</td>\n",
       "      <td>PoweredUNKWN</td>\n",
       "      <td>37.0</td>\n",
       "      <td>26912.73052</td>\n",
       "      <td>36.1643</td>\n",
       "      <td>-86.7770</td>\n",
       "      <td>36.1750</td>\n",
       "      <td>...</td>\n",
       "      <td>0</td>\n",
       "      <td>0</td>\n",
       "      <td>7.250000</td>\n",
       "      <td>0.135490</td>\n",
       "      <td>0.154529</td>\n",
       "      <td>8.265578</td>\n",
       "      <td>5</td>\n",
       "      <td>0</td>\n",
       "      <td>2018-09-01</td>\n",
       "      <td>0</td>\n",
       "    </tr>\n",
       "    <tr>\n",
       "      <th>3</th>\n",
       "      <td>4</td>\n",
       "      <td>12</td>\n",
       "      <td>Bird</td>\n",
       "      <td>BRD10</td>\n",
       "      <td>PoweredUNKWN</td>\n",
       "      <td>21.0</td>\n",
       "      <td>278.87140</td>\n",
       "      <td>36.1642</td>\n",
       "      <td>-86.7811</td>\n",
       "      <td>36.1647</td>\n",
       "      <td>...</td>\n",
       "      <td>0</td>\n",
       "      <td>0</td>\n",
       "      <td>7.766667</td>\n",
       "      <td>0.298072</td>\n",
       "      <td>1.067754</td>\n",
       "      <td>0.150904</td>\n",
       "      <td>5</td>\n",
       "      <td>0</td>\n",
       "      <td>2018-09-01</td>\n",
       "      <td>0</td>\n",
       "    </tr>\n",
       "    <tr>\n",
       "      <th>4</th>\n",
       "      <td>5</td>\n",
       "      <td>13</td>\n",
       "      <td>Bird</td>\n",
       "      <td>BRD12</td>\n",
       "      <td>PoweredUNKWN</td>\n",
       "      <td>52.0</td>\n",
       "      <td>23182.41544</td>\n",
       "      <td>36.1643</td>\n",
       "      <td>-86.7771</td>\n",
       "      <td>36.1749</td>\n",
       "      <td>...</td>\n",
       "      <td>0</td>\n",
       "      <td>0</td>\n",
       "      <td>7.300000</td>\n",
       "      <td>0.145186</td>\n",
       "      <td>0.177481</td>\n",
       "      <td>5.066086</td>\n",
       "      <td>5</td>\n",
       "      <td>0</td>\n",
       "      <td>2018-09-01</td>\n",
       "      <td>0</td>\n",
       "    </tr>\n",
       "  </tbody>\n",
       "</table>\n",
       "<p>5 rows × 31 columns</p>\n",
       "</div>"
      ],
      "text/plain": [
       "   Unnamed: 0  trip_id companyName tripRecordNum        sumdID  tripDuration  \\\n",
       "0           1        9        Bird          BRD4  PoweredUNKWN           7.0   \n",
       "1           2       10        Bird          BRD8  PoweredUNKWN          35.0   \n",
       "2           3       11        Bird          BRD9  PoweredUNKWN          37.0   \n",
       "3           4       12        Bird         BRD10  PoweredUNKWN          21.0   \n",
       "4           5       13        Bird         BRD12  PoweredUNKWN          52.0   \n",
       "\n",
       "   tripDistance  startLatitude  startLongitude  endLatitude  ...  \\\n",
       "0    7007.87424        36.1651        -86.7785      36.1622  ...   \n",
       "1   22473.75400        36.1760        -86.7871      36.1733  ...   \n",
       "2   26912.73052        36.1643        -86.7770      36.1750  ...   \n",
       "3     278.87140        36.1642        -86.7811      36.1647  ...   \n",
       "4   23182.41544        36.1643        -86.7771      36.1749  ...   \n",
       "\n",
       "   StartTime_PMPeak StartTime_Night StartTime_decimal route_directness_trace  \\\n",
       "0                 0               0          7.216667               0.381418   \n",
       "1                 0               0          7.233333               0.042463   \n",
       "2                 0               0          7.250000               0.135490   \n",
       "3                 0               0          7.766667               0.298072   \n",
       "4                 0               0          7.300000               0.145186   \n",
       "\n",
       "   route_directness_rawDist  average_trip_speed_mph  trip_start_week_no  \\\n",
       "0                  0.454174               11.376416                   5   \n",
       "1                  0.047480                7.296671                   5   \n",
       "2                  0.154529                8.265578                   5   \n",
       "3                  1.067754                0.150904                   5   \n",
       "4                  0.177481                5.066086                   5   \n",
       "\n",
       "   weekend_trip  start_date_str  high_trip_count_day  \n",
       "0             0      2018-09-01                    0  \n",
       "1             0      2018-09-01                    0  \n",
       "2             0      2018-09-01                    0  \n",
       "3             0      2018-09-01                    0  \n",
       "4             0      2018-09-01                    0  \n",
       "\n",
       "[5 rows x 31 columns]"
      ]
     },
     "execution_count": 2,
     "metadata": {},
     "output_type": "execute_result"
    }
   ],
   "source": [
    "# mydateparser = lambda x: pd.datetime.strptime(x, '%Y-%m-%d %H:%M:%S')\n",
    "data = pd.read_csv(\n",
    "    '_Data/trip data/cleaned_trip_data_withoutRouteData_TimeZoneCorrected_08192021.csv')\n",
    "#     ,parse_dates=['startDateTime'])\n",
    "#     ,date_parser=mydateparser)\n",
    "data['startDateTime'] = pd.to_datetime(\n",
    "    data['startDateTime'], utc=True).dt.tz_convert('US/Central')\n",
    "data.head()"
   ]
  },
  {
   "cell_type": "code",
   "execution_count": 3,
   "metadata": {
    "ExecuteTime": {
     "end_time": "2021-09-17T13:24:02.952139Z",
     "start_time": "2021-09-17T13:24:02.936342Z"
    }
   },
   "outputs": [
    {
     "name": "stdout",
     "output_type": "stream",
     "text": [
      "(1072890, 31)\n"
     ]
    },
    {
     "data": {
      "text/plain": [
       "Index(['Unnamed: 0', 'trip_id', 'companyName', 'tripRecordNum', 'sumdID',\n",
       "       'tripDuration', 'tripDistance', 'startLatitude', 'startLongitude',\n",
       "       'endLatitude', 'endLongitude', 'startDateTime', 'endDateTime',\n",
       "       'startDateTime_month', 'tripDistance_miles', 'euclidean_distance',\n",
       "       'distance_GPS_trace', 'distance_GPS_trace_miles', 'trip_start_hour_no',\n",
       "       'StartTime_AMPeak', 'StartTime_Day', 'StartTime_PMPeak',\n",
       "       'StartTime_Night', 'StartTime_decimal', 'route_directness_trace',\n",
       "       'route_directness_rawDist', 'average_trip_speed_mph',\n",
       "       'trip_start_week_no', 'weekend_trip', 'start_date_str',\n",
       "       'high_trip_count_day'],\n",
       "      dtype='object')"
      ]
     },
     "execution_count": 3,
     "metadata": {},
     "output_type": "execute_result"
    }
   ],
   "source": [
    "print(data.shape)\n",
    "data.columns"
   ]
  },
  {
   "cell_type": "code",
   "execution_count": 4,
   "metadata": {
    "ExecuteTime": {
     "end_time": "2021-09-17T13:24:31.138978Z",
     "start_time": "2021-09-17T13:24:03.390770Z"
    }
   },
   "outputs": [],
   "source": [
    "# data['week_of_year'] = data.apply(lambda x: x['startDateTime'].weekofyear, axis=1)\n",
    "data['week_day'] = data.apply(lambda x: x['startDateTime'].weekday(), axis=1)\n",
    "data['hour_no'] = data.apply(lambda x: x['startDateTime'].hour, axis=1)"
   ]
  },
  {
   "cell_type": "markdown",
   "metadata": {},
   "source": [
    "# Descriptive statistics "
   ]
  },
  {
   "cell_type": "markdown",
   "metadata": {},
   "source": [
    "## Basic trip statistics of raw data (before cleaning)"
   ]
  },
  {
   "cell_type": "code",
   "execution_count": 5,
   "metadata": {
    "ExecuteTime": {
     "end_time": "2021-09-17T13:24:31.748565Z",
     "start_time": "2021-09-17T13:24:31.735343Z"
    }
   },
   "outputs": [],
   "source": [
    "def trip_stat_raw():\n",
    "    data = pd.read_csv('_Data/trip data/trip_dataset.csv')#.sample(5000)\n",
    "\n",
    "    #     #sample small data to test code BUT comment out for final script\n",
    "    #empty dictionary to track removed trips\n",
    "    data_count={'Number of trips before slicing date: ':len(data)}\n",
    "\n",
    "\n",
    "    #---------------------------------------------------------------------------------------------------------------\n",
    "    #CONVERT START AND END DATE AND TIME TO PANDAS DATETIME FORMAT\n",
    "    #drop row with null startDateTime and endDateTime\n",
    "    data = data.dropna(subset=['startDate', 'startTime', 'endDate', 'endTime'])\n",
    "    data['startDateTime'] = data.apply(lambda x: pd.to_datetime(\n",
    "        x['startDate'][:10] + ' ' + x['startTime'][:8],\n",
    "        format='%Y-%m-%d %H:%M:%S',\n",
    "        utc=True).tz_convert('US/Central'),\n",
    "        axis=1)\n",
    "#     data['endDateTime'] = data.apply(\n",
    "#         lambda x: pd.to_datetime(x['endDate'][:10] + ' ' + x['endTime'][:8],\n",
    "#                                  format='%Y-%m-%d %H:%M:%S'),\n",
    "#         axis=1)\n",
    "\n",
    "    #data['pubTimeStamp_pd'] = data.apply(lambda x: pd.to_datetimetime(x['pubTimeStamp'], format='%Y-%m-%d %H:%M:%S'), axis=1)\n",
    "\n",
    "    #------------------------------------------------------------------------------------------------------------------\n",
    "    #SLICE DATA FROM 2018-9-01 to 2019-8-31\n",
    "    data = data.loc[(data['startDateTime'] > '2018-9-01')\n",
    "                    & (data['startDateTime'] < '2019-8-31')]\n",
    "    \n",
    "    print('mean trip distance: ', data['tripDistance'].mean()/5280)\n",
    "    print('median trip distance: ', data['tripDistance'].median()/5280)\n",
    "    print('mean trip duration: ', data['tripDuration'].mean())\n",
    "    print('median trip duration: ', data['tripDuration'].median())\n",
    "\n",
    "# trip_stat_raw()"
   ]
  },
  {
   "cell_type": "markdown",
   "metadata": {},
   "source": [
    "## Trips trend over time"
   ]
  },
  {
   "cell_type": "markdown",
   "metadata": {},
   "source": [
    "### Daily trip count"
   ]
  },
  {
   "cell_type": "code",
   "execution_count": 10,
   "metadata": {
    "ExecuteTime": {
     "end_time": "2021-09-17T13:27:22.060240Z",
     "start_time": "2021-09-17T13:27:18.794952Z"
    }
   },
   "outputs": [
    {
     "data": {
      "image/png": "[encoded data removed]",
      "text/plain": [
       "<Figure size 720x360 with 1 Axes>"
      ]
     },
     "metadata": {},
     "output_type": "display_data"
    }
   ],
   "source": [
    "fig, ax = plt.subplots(figsize=(10, 5))\n",
    "\n",
    "pd.DataFrame(\n",
    "    data['startDateTime'].value_counts().resample('D').count()).plot.line(ax=ax)\n",
    "\n",
    "#axis label\n",
    "# _ = plt.title('Daily Trip count', fontsize=13)\n",
    "_ = plt.xlabel('Months', fontsize=13)\n",
    "_ = plt.ylabel('Daily trip volume', fontsize=13)\n",
    "_ = ax.tick_params(axis='both', which='major', labelsize=11)\n",
    "_ = ax.tick_params(axis='both', which='minor', labelsize=11)\n",
    "\n",
    "style.use('seaborn-darkgrid')\n",
    "ax.get_legend().remove()\n",
    "plt.tight_layout()\n",
    "plt.savefig('results/TemporalDistribution_AllData_DailyTrips_Year_V2_TimeZoneCorrected_08192021.png', dpi=900)"
   ]
  },
  {
   "cell_type": "markdown",
   "metadata": {},
   "source": [
    "### Average hourly for week"
   ]
  },
  {
   "cell_type": "code",
   "execution_count": 11,
   "metadata": {
    "ExecuteTime": {
     "end_time": "2021-09-17T13:27:41.529806Z",
     "start_time": "2021-09-17T13:27:40.643939Z"
    }
   },
   "outputs": [
    {
     "data": {
      "text/html": [
       "<div>\n",
       "<style scoped>\n",
       "    .dataframe tbody tr th:only-of-type {\n",
       "        vertical-align: middle;\n",
       "    }\n",
       "\n",
       "    .dataframe tbody tr th {\n",
       "        vertical-align: top;\n",
       "    }\n",
       "\n",
       "    .dataframe thead th {\n",
       "        text-align: right;\n",
       "    }\n",
       "</style>\n",
       "<table border=\"1\" class=\"dataframe\">\n",
       "  <thead>\n",
       "    <tr style=\"text-align: right;\">\n",
       "      <th></th>\n",
       "      <th>index</th>\n",
       "      <th>hourly_count</th>\n",
       "      <th>week_day</th>\n",
       "      <th>hour_no</th>\n",
       "    </tr>\n",
       "  </thead>\n",
       "  <tbody>\n",
       "    <tr>\n",
       "      <th>0</th>\n",
       "      <td>2018-09-01 07:00:00-05:00</td>\n",
       "      <td>7</td>\n",
       "      <td>5</td>\n",
       "      <td>7</td>\n",
       "    </tr>\n",
       "    <tr>\n",
       "      <th>1</th>\n",
       "      <td>2018-09-01 08:00:00-05:00</td>\n",
       "      <td>15</td>\n",
       "      <td>5</td>\n",
       "      <td>8</td>\n",
       "    </tr>\n",
       "    <tr>\n",
       "      <th>2</th>\n",
       "      <td>2018-09-01 09:00:00-05:00</td>\n",
       "      <td>56</td>\n",
       "      <td>5</td>\n",
       "      <td>9</td>\n",
       "    </tr>\n",
       "    <tr>\n",
       "      <th>3</th>\n",
       "      <td>2018-09-01 10:00:00-05:00</td>\n",
       "      <td>60</td>\n",
       "      <td>5</td>\n",
       "      <td>10</td>\n",
       "    </tr>\n",
       "    <tr>\n",
       "      <th>4</th>\n",
       "      <td>2018-09-01 11:00:00-05:00</td>\n",
       "      <td>117</td>\n",
       "      <td>5</td>\n",
       "      <td>11</td>\n",
       "    </tr>\n",
       "  </tbody>\n",
       "</table>\n",
       "</div>"
      ],
      "text/plain": [
       "                      index  hourly_count  week_day  hour_no\n",
       "0 2018-09-01 07:00:00-05:00             7         5        7\n",
       "1 2018-09-01 08:00:00-05:00            15         5        8\n",
       "2 2018-09-01 09:00:00-05:00            56         5        9\n",
       "3 2018-09-01 10:00:00-05:00            60         5       10\n",
       "4 2018-09-01 11:00:00-05:00           117         5       11"
      ]
     },
     "execution_count": 11,
     "metadata": {},
     "output_type": "execute_result"
    }
   ],
   "source": [
    "#resample data by Hour and count number fo trips starting at that hour\n",
    "weekday_avg_count = pd.DataFrame(\n",
    "    data['startDateTime'].value_counts().resample('H').count()).rename(\n",
    "        columns={'startDateTime': 'hourly_count'}).reset_index()\n",
    "\n",
    "# #creating column for weekday no\n",
    "\n",
    "weekday_avg_count['week_day'] = weekday_avg_count.apply(lambda x: x['index'].weekday(), axis=1)\n",
    "weekday_avg_count['hour_no'] = weekday_avg_count.apply(lambda x: x['index'].hour, axis=1)\n",
    "\n",
    "weekday_avg_count.head()"
   ]
  },
  {
   "cell_type": "markdown",
   "metadata": {},
   "source": [
    "#### Statistics for scooter trips for weekend"
   ]
  },
  {
   "cell_type": "code",
   "execution_count": 23,
   "metadata": {
    "ExecuteTime": {
     "end_time": "2021-10-03T19:42:21.857650Z",
     "start_time": "2021-10-03T19:42:21.826475Z"
    }
   },
   "outputs": [
    {
     "name": "stdout",
     "output_type": "stream",
     "text": [
      "85.23103632478633 154.13055925742268\n",
      "ratio of typical weekend trip number by weekday 1.8083853711467712\n",
      "proportion of trips higher in weekend than weekday 0.8083853711467713\n"
     ]
    }
   ],
   "source": [
    "average_per_day=weekday_avg_count.groupby(['week_day'])['hourly_count'].mean()\n",
    "typical_weekday=average_per_day[:3].mean()\n",
    "typical_weekend=average_per_day[-2:].mean()\n",
    "print(typical_weekday,typical_weekend)\n",
    "print('ratio of typical weekend trip number by weekday',typical_weekend/typical_weekday)\n",
    "print('proportion of trips higher in weekend than weekday',(typical_weekend-typical_weekday)/typical_weekday)"
   ]
  },
  {
   "cell_type": "code",
   "execution_count": 13,
   "metadata": {
    "ExecuteTime": {
     "end_time": "2021-09-17T13:27:43.436830Z",
     "start_time": "2021-09-17T13:27:43.425877Z"
    }
   },
   "outputs": [
    {
     "name": "stdout",
     "output_type": "stream",
     "text": [
      "15\n",
      "16\n"
     ]
    }
   ],
   "source": [
    "print(len(np.arange(0,24*7+7,12)))\n",
    "print(len(['']+['12 pm','12 am']*7+['12 am']))"
   ]
  },
  {
   "cell_type": "code",
   "execution_count": 17,
   "metadata": {
    "ExecuteTime": {
     "end_time": "2021-09-17T13:28:08.358303Z",
     "start_time": "2021-09-17T13:28:07.857967Z"
    }
   },
   "outputs": [
    {
     "data": {
      "image/png": "[encoded data removed]",
      "text/plain": [
       "<Figure size 792x288 with 1 Axes>"
      ]
     },
     "metadata": {},
     "output_type": "display_data"
    }
   ],
   "source": [
    "# weekday_avg_count.groupby(['week_day', 'hour_no'])['hourly_count'].mean().plot()\n",
    "\n",
    "fig, ax = plt.subplots(figsize=(11, 4))\n",
    "\n",
    "weekday_avg_count.groupby(['week_day',\n",
    "                           'hour_no'])['hourly_count'].mean().plot(ax=ax)\n",
    "for x in np.arange(0, 169, 24):\n",
    "    ax.axvline(x=x, color='red', linewidth=0.9, linestyle='--')\n",
    "\n",
    "day_label = ['Mon', 'Tue', 'Wed', 'Thrus', 'Fri', 'Sat', 'Sun']\n",
    "for x in np.arange(1, 8, 1):\n",
    "    ax.text(-14 + 24 * x, -75, day_label[x - 1], color='black', fontsize=11)\n",
    "\n",
    "# axis tick label\n",
    "# ax.set_yticklabels['12,24']\n",
    "\n",
    "# # ax.xaxis.set_minor_locator(MultipleLocator(12))\n",
    "# ax.xaxis.set_major_locator(MultipleLocator(12))\n",
    "# ax.set_xticklabels(\n",
    "#     [0, 0, 12, 24, 12, 24, 12, 24, 12, 24, 12, 24, 12, 24, 12, 24])\n",
    "plt.xticks(np.arange(0,24*7+7,12),['']+['12 pm','12 am']*7)\n",
    "\n",
    "\n",
    "#axis label\n",
    "plt.xlabel('Time of the week', fontsize=13,labelpad=15)\n",
    "plt.ylabel('Average trips volume per hour', fontsize=13)\n",
    "\n",
    "_ = ax.tick_params(axis='both', which='major', labelsize=11)\n",
    "_ = ax.tick_params(axis='both', which='minor', labelsize=11)\n",
    "\n",
    "plt.tight_layout()\n",
    "plt.savefig('results/TemporalDistribution_AllTrips_TimeOfWeek_V2_TimeZoneCorrected_08192021.png', dpi=300)"
   ]
  },
  {
   "cell_type": "markdown",
   "metadata": {},
   "source": [
    "### 15 days with the highest trip count"
   ]
  },
  {
   "cell_type": "code",
   "execution_count": 41,
   "metadata": {
    "ExecuteTime": {
     "end_time": "2021-08-19T22:08:09.973448Z",
     "start_time": "2021-08-19T22:08:09.208789Z"
    }
   },
   "outputs": [
    {
     "data": {
      "text/plain": [
       "DatetimeIndex(['2019-04-27 00:00:00-05:00', '2019-04-26 00:00:00-05:00',\n",
       "               '2019-05-25 00:00:00-05:00', '2019-05-26 00:00:00-05:00',\n",
       "               '2019-06-01 00:00:00-05:00', '2019-06-08 00:00:00-05:00',\n",
       "               '2019-05-18 00:00:00-05:00', '2019-04-25 00:00:00-05:00',\n",
       "               '2019-05-17 00:00:00-05:00', '2019-06-15 00:00:00-05:00',\n",
       "               '2019-04-28 00:00:00-05:00', '2019-05-05 00:00:00-05:00',\n",
       "               '2019-04-13 00:00:00-05:00', '2019-04-21 00:00:00-05:00',\n",
       "               '2019-05-03 00:00:00-05:00'],\n",
       "              dtype='datetime64[ns, US/Central]', freq=None)"
      ]
     },
     "execution_count": 41,
     "metadata": {},
     "output_type": "execute_result"
    }
   ],
   "source": [
    "data['startDateTime'].value_counts().resample('D').sum().sort_values(ascending=False)[:15].index"
   ]
  },
  {
   "cell_type": "markdown",
   "metadata": {},
   "source": [
    "## Trip statistics"
   ]
  },
  {
   "cell_type": "markdown",
   "metadata": {},
   "source": [
    "### Trip distance"
   ]
  },
  {
   "cell_type": "code",
   "execution_count": 42,
   "metadata": {
    "ExecuteTime": {
     "end_time": "2021-08-19T22:08:13.849353Z",
     "start_time": "2021-08-19T22:08:13.465949Z"
    }
   },
   "outputs": [
    {
     "data": {
      "image/png": "[encoded data removed]",
      "text/plain": [
       "<Figure size 720x324 with 2 Axes>"
      ]
     },
     "metadata": {},
     "output_type": "display_data"
    }
   ],
   "source": [
    "fig, ax = plt.subplots(figsize=(10, 4.5))\n",
    "\n",
    "ax2 = ax.twinx()\n",
    "data.hist('tripDistance_miles', ax=ax, bins=40)\n",
    "data_distance = data[['tripDistance_miles']]\n",
    "\n",
    "# evaluate the histogram\n",
    "values, base = np.histogram(data_distance, bins=50)\n",
    "# plt.suptitle('')\n",
    "\n",
    "#evaluate the cumulative\n",
    "cumulative = np.cumsum(values)\n",
    "\n",
    "# plot the cumulative function\n",
    "ax2.plot(base[:-1],\n",
    "         cumulative / cumulative[-1] * 100,\n",
    "         color='black',\n",
    "         linewidth=1.5)\n",
    "ax2.set_ylabel('Cummulative percentage')\n",
    "\n",
    "ax.grid(color='w', linestyle='-', axis='y', linewidth=0)\n",
    "ax2.grid(color='w', linestyle='-', linewidth=1)\n",
    "\n",
    "# plt.title('Trip Distance', fontsize=13)\n",
    "\n",
    "ax.set_xlabel('Trip Distance (in miles)', fontsize=11)\n",
    "ax.set_ylabel('Number of trips', fontsize=11)\n",
    "ax.tick_params(axis='both', which='major', labelsize=9)\n",
    "ax.tick_params(axis='both', which='minor', labelsize=9)\n",
    "ax2.tick_params(axis='both', which='minor', labelsize=9)\n",
    "\n",
    "#plt.title('Trip distance cummulative distribution')\n",
    "plt.tight_layout()\n",
    "# plt.savefig('plots/Trip_distance_plot.png', dpi=900)"
   ]
  },
  {
   "cell_type": "markdown",
   "metadata": {},
   "source": [
    "### Trip duration"
   ]
  },
  {
   "cell_type": "code",
   "execution_count": 43,
   "metadata": {
    "ExecuteTime": {
     "end_time": "2021-08-19T22:08:16.303272Z",
     "start_time": "2021-08-19T22:08:15.895625Z"
    }
   },
   "outputs": [
    {
     "data": {
      "image/png": "[encoded data removed]",
      "text/plain": [
       "<Figure size 720x324 with 2 Axes>"
      ]
     },
     "metadata": {},
     "output_type": "display_data"
    }
   ],
   "source": [
    "fig, ax = plt.subplots(figsize=(10, 4.5))\n",
    "\n",
    "ax2 = ax.twinx()\n",
    "data.hist('tripDuration', ax=ax, bins=40)\n",
    "data_distance = data[['tripDuration']]\n",
    "\n",
    "# evaluate the histogram\n",
    "values, base = np.histogram(data_distance, bins=50)\n",
    "# plt.suptitle('')\n",
    "\n",
    "#evaluate the cumulative\n",
    "cumulative = np.cumsum(values)\n",
    "\n",
    "# plot the cumulative function\n",
    "ax2.plot(base[:-1],\n",
    "         cumulative / cumulative[-1] * 100,\n",
    "         color='black',\n",
    "         linewidth=1.5)\n",
    "ax2.set_ylabel('Cummulative percentage')\n",
    "\n",
    "ax.grid(color='w', linestyle='-', axis='y', linewidth=0)\n",
    "ax2.grid(color='w', linestyle='-', linewidth=1)\n",
    "\n",
    "# plt.title('Trip Distance', fontsize=13)\n",
    "\n",
    "ax.set_xlabel('Trip Duration (in minutes)', fontsize=11)\n",
    "ax.set_ylabel('Number of trips', fontsize=11)\n",
    "ax.tick_params(axis='both', which='major', labelsize=9)\n",
    "ax.tick_params(axis='both', which='minor', labelsize=9)\n",
    "ax2.tick_params(axis='both', which='minor', labelsize=9)\n",
    "\n",
    "#plt.title('Trip distance cummulative distribution')\n",
    "plt.tight_layout()\n",
    "# plt.savefig('plots/Trip_duration_plot.png', dpi=900)"
   ]
  },
  {
   "cell_type": "markdown",
   "metadata": {},
   "source": [
    "## Descriptive statistics of variables"
   ]
  },
  {
   "cell_type": "code",
   "execution_count": 18,
   "metadata": {
    "ExecuteTime": {
     "end_time": "2021-09-17T13:29:10.748197Z",
     "start_time": "2021-09-17T13:29:03.044219Z"
    }
   },
   "outputs": [
    {
     "name": "stdout",
     "output_type": "stream",
     "text": [
      "0    785477\n",
      "1    265020\n",
      "Name: weekend_trip, dtype: int64\n",
      "0    907829\n",
      "1    142668\n",
      "Name: high_trip_count_day, dtype: int64\n",
      "0    977684\n",
      "1     72813\n",
      "Name: StartTime_AMPeak, dtype: int64\n",
      "0    541992\n",
      "1    508505\n",
      "Name: StartTime_Day, dtype: int64\n",
      "0    751856\n",
      "1    298641\n",
      "Name: StartTime_PMPeak, dtype: int64\n",
      "0    879959\n",
      "1    170538\n",
      "Name: StartTime_Night, dtype: int64\n"
     ]
    },
    {
     "data": {
      "text/html": [
       "<div>\n",
       "<style scoped>\n",
       "    .dataframe tbody tr th:only-of-type {\n",
       "        vertical-align: middle;\n",
       "    }\n",
       "\n",
       "    .dataframe tbody tr th {\n",
       "        vertical-align: top;\n",
       "    }\n",
       "\n",
       "    .dataframe thead th {\n",
       "        text-align: right;\n",
       "    }\n",
       "</style>\n",
       "<table border=\"1\" class=\"dataframe\">\n",
       "  <thead>\n",
       "    <tr style=\"text-align: right;\">\n",
       "      <th></th>\n",
       "      <th>count</th>\n",
       "      <th>mean</th>\n",
       "      <th>std</th>\n",
       "      <th>min</th>\n",
       "      <th>25%</th>\n",
       "      <th>50%</th>\n",
       "      <th>75%</th>\n",
       "      <th>max</th>\n",
       "    </tr>\n",
       "  </thead>\n",
       "  <tbody>\n",
       "    <tr>\n",
       "      <th>Trip distance (miles)</th>\n",
       "      <td>1050497.0</td>\n",
       "      <td>0.72</td>\n",
       "      <td>1.02</td>\n",
       "      <td>0.00</td>\n",
       "      <td>0.08</td>\n",
       "      <td>0.31</td>\n",
       "      <td>0.99</td>\n",
       "      <td>10.00</td>\n",
       "    </tr>\n",
       "    <tr>\n",
       "      <th>Trip duration (minutes)</th>\n",
       "      <td>1050497.0</td>\n",
       "      <td>16.41</td>\n",
       "      <td>17.81</td>\n",
       "      <td>1.00</td>\n",
       "      <td>5.82</td>\n",
       "      <td>10.82</td>\n",
       "      <td>20.00</td>\n",
       "      <td>180.00</td>\n",
       "    </tr>\n",
       "    <tr>\n",
       "      <th>Route directness ratio</th>\n",
       "      <td>1050497.0</td>\n",
       "      <td>0.55</td>\n",
       "      <td>0.30</td>\n",
       "      <td>0.00</td>\n",
       "      <td>0.30</td>\n",
       "      <td>0.62</td>\n",
       "      <td>0.81</td>\n",
       "      <td>1.00</td>\n",
       "    </tr>\n",
       "    <tr>\n",
       "      <th>Average trip speed (mph)</th>\n",
       "      <td>1050497.0</td>\n",
       "      <td>2.97</td>\n",
       "      <td>2.97</td>\n",
       "      <td>0.00</td>\n",
       "      <td>0.46</td>\n",
       "      <td>2.14</td>\n",
       "      <td>4.95</td>\n",
       "      <td>304.29</td>\n",
       "    </tr>\n",
       "    <tr>\n",
       "      <th>Trips on special event</th>\n",
       "      <td>1050497.0</td>\n",
       "      <td>0.14</td>\n",
       "      <td>0.34</td>\n",
       "      <td>0.00</td>\n",
       "      <td>0.00</td>\n",
       "      <td>0.00</td>\n",
       "      <td>0.00</td>\n",
       "      <td>1.00</td>\n",
       "    </tr>\n",
       "    <tr>\n",
       "      <th>Weekend trips</th>\n",
       "      <td>1050497.0</td>\n",
       "      <td>0.25</td>\n",
       "      <td>0.43</td>\n",
       "      <td>0.00</td>\n",
       "      <td>0.00</td>\n",
       "      <td>0.00</td>\n",
       "      <td>1.00</td>\n",
       "      <td>1.00</td>\n",
       "    </tr>\n",
       "    <tr>\n",
       "      <th>Trip during 7 am and 10 am</th>\n",
       "      <td>1050497.0</td>\n",
       "      <td>0.07</td>\n",
       "      <td>0.25</td>\n",
       "      <td>0.00</td>\n",
       "      <td>0.00</td>\n",
       "      <td>0.00</td>\n",
       "      <td>0.00</td>\n",
       "      <td>1.00</td>\n",
       "    </tr>\n",
       "    <tr>\n",
       "      <th>Trip during 10 am and 4 pm</th>\n",
       "      <td>1050497.0</td>\n",
       "      <td>0.48</td>\n",
       "      <td>0.50</td>\n",
       "      <td>0.00</td>\n",
       "      <td>0.00</td>\n",
       "      <td>0.00</td>\n",
       "      <td>1.00</td>\n",
       "      <td>1.00</td>\n",
       "    </tr>\n",
       "    <tr>\n",
       "      <th>Trip during 4 pm and 8 pm</th>\n",
       "      <td>1050497.0</td>\n",
       "      <td>0.28</td>\n",
       "      <td>0.45</td>\n",
       "      <td>0.00</td>\n",
       "      <td>0.00</td>\n",
       "      <td>0.00</td>\n",
       "      <td>1.00</td>\n",
       "      <td>1.00</td>\n",
       "    </tr>\n",
       "    <tr>\n",
       "      <th>Trip during 8 pm and 7 am</th>\n",
       "      <td>1050497.0</td>\n",
       "      <td>0.16</td>\n",
       "      <td>0.37</td>\n",
       "      <td>0.00</td>\n",
       "      <td>0.00</td>\n",
       "      <td>0.00</td>\n",
       "      <td>0.00</td>\n",
       "      <td>1.00</td>\n",
       "    </tr>\n",
       "    <tr>\n",
       "      <th>Average daily precipitation</th>\n",
       "      <td>1050497.0</td>\n",
       "      <td>0.14</td>\n",
       "      <td>0.35</td>\n",
       "      <td>0.00</td>\n",
       "      <td>0.00</td>\n",
       "      <td>0.00</td>\n",
       "      <td>0.07</td>\n",
       "      <td>4.00</td>\n",
       "    </tr>\n",
       "    <tr>\n",
       "      <th>Average daily temperature</th>\n",
       "      <td>1050497.0</td>\n",
       "      <td>64.70</td>\n",
       "      <td>14.60</td>\n",
       "      <td>24.00</td>\n",
       "      <td>53.00</td>\n",
       "      <td>68.00</td>\n",
       "      <td>78.00</td>\n",
       "      <td>85.00</td>\n",
       "    </tr>\n",
       "    <tr>\n",
       "      <th>Proportion of CBD land use at origin</th>\n",
       "      <td>1050497.0</td>\n",
       "      <td>0.66</td>\n",
       "      <td>0.33</td>\n",
       "      <td>0.00</td>\n",
       "      <td>0.44</td>\n",
       "      <td>0.87</td>\n",
       "      <td>0.90</td>\n",
       "      <td>0.90</td>\n",
       "    </tr>\n",
       "    <tr>\n",
       "      <th>Proportion of urban land use at origin</th>\n",
       "      <td>1050497.0</td>\n",
       "      <td>0.23</td>\n",
       "      <td>0.33</td>\n",
       "      <td>0.00</td>\n",
       "      <td>0.00</td>\n",
       "      <td>0.00</td>\n",
       "      <td>0.46</td>\n",
       "      <td>0.90</td>\n",
       "    </tr>\n",
       "    <tr>\n",
       "      <th>Proportion of sub-urban land use at origin</th>\n",
       "      <td>1050497.0</td>\n",
       "      <td>0.00</td>\n",
       "      <td>0.01</td>\n",
       "      <td>0.00</td>\n",
       "      <td>0.00</td>\n",
       "      <td>0.00</td>\n",
       "      <td>0.00</td>\n",
       "      <td>0.60</td>\n",
       "    </tr>\n",
       "    <tr>\n",
       "      <th>Proportion of rural land use at origin</th>\n",
       "      <td>1050497.0</td>\n",
       "      <td>0.00</td>\n",
       "      <td>0.00</td>\n",
       "      <td>0.00</td>\n",
       "      <td>0.00</td>\n",
       "      <td>0.00</td>\n",
       "      <td>0.00</td>\n",
       "      <td>0.00</td>\n",
       "    </tr>\n",
       "    <tr>\n",
       "      <th>Average population density at origin</th>\n",
       "      <td>1050497.0</td>\n",
       "      <td>8136.67</td>\n",
       "      <td>4665.11</td>\n",
       "      <td>0.00</td>\n",
       "      <td>5009.70</td>\n",
       "      <td>7471.16</td>\n",
       "      <td>11055.76</td>\n",
       "      <td>18555.69</td>\n",
       "    </tr>\n",
       "    <tr>\n",
       "      <th>Average employment density at origin</th>\n",
       "      <td>1050497.0</td>\n",
       "      <td>74560.13</td>\n",
       "      <td>70044.96</td>\n",
       "      <td>24.54</td>\n",
       "      <td>14494.80</td>\n",
       "      <td>50332.81</td>\n",
       "      <td>137875.77</td>\n",
       "      <td>229577.11</td>\n",
       "    </tr>\n",
       "    <tr>\n",
       "      <th>Average parking density at origin</th>\n",
       "      <td>1050497.0</td>\n",
       "      <td>12622.07</td>\n",
       "      <td>16216.54</td>\n",
       "      <td>0.00</td>\n",
       "      <td>254.90</td>\n",
       "      <td>2713.00</td>\n",
       "      <td>25670.51</td>\n",
       "      <td>53492.32</td>\n",
       "    </tr>\n",
       "    <tr>\n",
       "      <th>Intersection density (per sq. miles) at origin</th>\n",
       "      <td>1050497.0</td>\n",
       "      <td>536.47</td>\n",
       "      <td>144.46</td>\n",
       "      <td>20.72</td>\n",
       "      <td>455.84</td>\n",
       "      <td>549.08</td>\n",
       "      <td>652.68</td>\n",
       "      <td>808.08</td>\n",
       "    </tr>\n",
       "    <tr>\n",
       "      <th>Entropy at origin</th>\n",
       "      <td>1050497.0</td>\n",
       "      <td>0.66</td>\n",
       "      <td>0.25</td>\n",
       "      <td>-0.00</td>\n",
       "      <td>0.59</td>\n",
       "      <td>0.75</td>\n",
       "      <td>0.83</td>\n",
       "      <td>0.93</td>\n",
       "    </tr>\n",
       "    <tr>\n",
       "      <th>Proportion of CBD land use at destination</th>\n",
       "      <td>1050497.0</td>\n",
       "      <td>0.66</td>\n",
       "      <td>0.33</td>\n",
       "      <td>0.00</td>\n",
       "      <td>0.42</td>\n",
       "      <td>0.87</td>\n",
       "      <td>0.90</td>\n",
       "      <td>0.90</td>\n",
       "    </tr>\n",
       "    <tr>\n",
       "      <th>Proportion of urban land use at destination</th>\n",
       "      <td>1050497.0</td>\n",
       "      <td>0.23</td>\n",
       "      <td>0.33</td>\n",
       "      <td>0.00</td>\n",
       "      <td>0.00</td>\n",
       "      <td>0.00</td>\n",
       "      <td>0.48</td>\n",
       "      <td>0.90</td>\n",
       "    </tr>\n",
       "    <tr>\n",
       "      <th>Proportion of sub-urban land use at destination</th>\n",
       "      <td>1050497.0</td>\n",
       "      <td>0.00</td>\n",
       "      <td>0.01</td>\n",
       "      <td>0.00</td>\n",
       "      <td>0.00</td>\n",
       "      <td>0.00</td>\n",
       "      <td>0.00</td>\n",
       "      <td>0.60</td>\n",
       "    </tr>\n",
       "    <tr>\n",
       "      <th>Proportion of rural land use at destination</th>\n",
       "      <td>1050497.0</td>\n",
       "      <td>0.00</td>\n",
       "      <td>0.00</td>\n",
       "      <td>0.00</td>\n",
       "      <td>0.00</td>\n",
       "      <td>0.00</td>\n",
       "      <td>0.00</td>\n",
       "      <td>0.00</td>\n",
       "    </tr>\n",
       "    <tr>\n",
       "      <th>Average population density at destination</th>\n",
       "      <td>1050497.0</td>\n",
       "      <td>8039.44</td>\n",
       "      <td>4619.77</td>\n",
       "      <td>0.00</td>\n",
       "      <td>4978.78</td>\n",
       "      <td>7649.22</td>\n",
       "      <td>10581.71</td>\n",
       "      <td>18555.69</td>\n",
       "    </tr>\n",
       "    <tr>\n",
       "      <th>Average employment density at destination</th>\n",
       "      <td>1050497.0</td>\n",
       "      <td>75597.21</td>\n",
       "      <td>70944.69</td>\n",
       "      <td>24.54</td>\n",
       "      <td>13524.36</td>\n",
       "      <td>50332.81</td>\n",
       "      <td>137875.77</td>\n",
       "      <td>229577.11</td>\n",
       "    </tr>\n",
       "    <tr>\n",
       "      <th>Average parking density at destination</th>\n",
       "      <td>1050497.0</td>\n",
       "      <td>12902.26</td>\n",
       "      <td>16402.12</td>\n",
       "      <td>0.00</td>\n",
       "      <td>140.44</td>\n",
       "      <td>2713.00</td>\n",
       "      <td>25670.51</td>\n",
       "      <td>53492.32</td>\n",
       "    </tr>\n",
       "    <tr>\n",
       "      <th>Intersection density (per sq. miles) at destination</th>\n",
       "      <td>1050497.0</td>\n",
       "      <td>535.63</td>\n",
       "      <td>145.50</td>\n",
       "      <td>20.72</td>\n",
       "      <td>455.84</td>\n",
       "      <td>549.08</td>\n",
       "      <td>652.68</td>\n",
       "      <td>808.08</td>\n",
       "    </tr>\n",
       "    <tr>\n",
       "      <th>Entropy at destination</th>\n",
       "      <td>1050497.0</td>\n",
       "      <td>0.64</td>\n",
       "      <td>0.27</td>\n",
       "      <td>-0.00</td>\n",
       "      <td>0.55</td>\n",
       "      <td>0.75</td>\n",
       "      <td>0.83</td>\n",
       "      <td>0.93</td>\n",
       "    </tr>\n",
       "  </tbody>\n",
       "</table>\n",
       "</div>"
      ],
      "text/plain": [
       "                                                        count      mean  \\\n",
       "Trip distance (miles)                               1050497.0      0.72   \n",
       "Trip duration (minutes)                             1050497.0     16.41   \n",
       "Route directness ratio                              1050497.0      0.55   \n",
       "Average trip speed (mph)                            1050497.0      2.97   \n",
       "Trips on special event                              1050497.0      0.14   \n",
       "Weekend trips                                       1050497.0      0.25   \n",
       "Trip during 7 am and 10 am                          1050497.0      0.07   \n",
       "Trip during 10 am and 4 pm                          1050497.0      0.48   \n",
       "Trip during 4 pm and 8 pm                           1050497.0      0.28   \n",
       "Trip during 8 pm and 7 am                           1050497.0      0.16   \n",
       "Average daily precipitation                         1050497.0      0.14   \n",
       "Average daily temperature                           1050497.0     64.70   \n",
       "Proportion of CBD land use at origin                1050497.0      0.66   \n",
       "Proportion of urban land use at origin              1050497.0      0.23   \n",
       "Proportion of sub-urban land use at origin          1050497.0      0.00   \n",
       "Proportion of rural land use at origin              1050497.0      0.00   \n",
       "Average population density at origin                1050497.0   8136.67   \n",
       "Average employment density at origin                1050497.0  74560.13   \n",
       "Average parking density at origin                   1050497.0  12622.07   \n",
       "Intersection density (per sq. miles) at origin      1050497.0    536.47   \n",
       "Entropy at origin                                   1050497.0      0.66   \n",
       "Proportion of CBD land use at destination           1050497.0      0.66   \n",
       "Proportion of urban land use at destination         1050497.0      0.23   \n",
       "Proportion of sub-urban land use at destination     1050497.0      0.00   \n",
       "Proportion of rural land use at destination         1050497.0      0.00   \n",
       "Average population density at destination           1050497.0   8039.44   \n",
       "Average employment density at destination           1050497.0  75597.21   \n",
       "Average parking density at destination              1050497.0  12902.26   \n",
       "Intersection density (per sq. miles) at destina...  1050497.0    535.63   \n",
       "Entropy at destination                              1050497.0      0.64   \n",
       "\n",
       "                                                         std    min       25%  \\\n",
       "Trip distance (miles)                                   1.02   0.00      0.08   \n",
       "Trip duration (minutes)                                17.81   1.00      5.82   \n",
       "Route directness ratio                                  0.30   0.00      0.30   \n",
       "Average trip speed (mph)                                2.97   0.00      0.46   \n",
       "Trips on special event                                  0.34   0.00      0.00   \n",
       "Weekend trips                                           0.43   0.00      0.00   \n",
       "Trip during 7 am and 10 am                              0.25   0.00      0.00   \n",
       "Trip during 10 am and 4 pm                              0.50   0.00      0.00   \n",
       "Trip during 4 pm and 8 pm                               0.45   0.00      0.00   \n",
       "Trip during 8 pm and 7 am                               0.37   0.00      0.00   \n",
       "Average daily precipitation                             0.35   0.00      0.00   \n",
       "Average daily temperature                              14.60  24.00     53.00   \n",
       "Proportion of CBD land use at origin                    0.33   0.00      0.44   \n",
       "Proportion of urban land use at origin                  0.33   0.00      0.00   \n",
       "Proportion of sub-urban land use at origin              0.01   0.00      0.00   \n",
       "Proportion of rural land use at origin                  0.00   0.00      0.00   \n",
       "Average population density at origin                 4665.11   0.00   5009.70   \n",
       "Average employment density at origin                70044.96  24.54  14494.80   \n",
       "Average parking density at origin                   16216.54   0.00    254.90   \n",
       "Intersection density (per sq. miles) at origin        144.46  20.72    455.84   \n",
       "Entropy at origin                                       0.25  -0.00      0.59   \n",
       "Proportion of CBD land use at destination               0.33   0.00      0.42   \n",
       "Proportion of urban land use at destination             0.33   0.00      0.00   \n",
       "Proportion of sub-urban land use at destination         0.01   0.00      0.00   \n",
       "Proportion of rural land use at destination             0.00   0.00      0.00   \n",
       "Average population density at destination            4619.77   0.00   4978.78   \n",
       "Average employment density at destination           70944.69  24.54  13524.36   \n",
       "Average parking density at destination              16402.12   0.00    140.44   \n",
       "Intersection density (per sq. miles) at destina...    145.50  20.72    455.84   \n",
       "Entropy at destination                                  0.27  -0.00      0.55   \n",
       "\n",
       "                                                         50%        75%  \\\n",
       "Trip distance (miles)                                   0.31       0.99   \n",
       "Trip duration (minutes)                                10.82      20.00   \n",
       "Route directness ratio                                  0.62       0.81   \n",
       "Average trip speed (mph)                                2.14       4.95   \n",
       "Trips on special event                                  0.00       0.00   \n",
       "Weekend trips                                           0.00       1.00   \n",
       "Trip during 7 am and 10 am                              0.00       0.00   \n",
       "Trip during 10 am and 4 pm                              0.00       1.00   \n",
       "Trip during 4 pm and 8 pm                               0.00       1.00   \n",
       "Trip during 8 pm and 7 am                               0.00       0.00   \n",
       "Average daily precipitation                             0.00       0.07   \n",
       "Average daily temperature                              68.00      78.00   \n",
       "Proportion of CBD land use at origin                    0.87       0.90   \n",
       "Proportion of urban land use at origin                  0.00       0.46   \n",
       "Proportion of sub-urban land use at origin              0.00       0.00   \n",
       "Proportion of rural land use at origin                  0.00       0.00   \n",
       "Average population density at origin                 7471.16   11055.76   \n",
       "Average employment density at origin                50332.81  137875.77   \n",
       "Average parking density at origin                    2713.00   25670.51   \n",
       "Intersection density (per sq. miles) at origin        549.08     652.68   \n",
       "Entropy at origin                                       0.75       0.83   \n",
       "Proportion of CBD land use at destination               0.87       0.90   \n",
       "Proportion of urban land use at destination             0.00       0.48   \n",
       "Proportion of sub-urban land use at destination         0.00       0.00   \n",
       "Proportion of rural land use at destination             0.00       0.00   \n",
       "Average population density at destination            7649.22   10581.71   \n",
       "Average employment density at destination           50332.81  137875.77   \n",
       "Average parking density at destination               2713.00   25670.51   \n",
       "Intersection density (per sq. miles) at destina...    549.08     652.68   \n",
       "Entropy at destination                                  0.75       0.83   \n",
       "\n",
       "                                                          max  \n",
       "Trip distance (miles)                                   10.00  \n",
       "Trip duration (minutes)                                180.00  \n",
       "Route directness ratio                                   1.00  \n",
       "Average trip speed (mph)                               304.29  \n",
       "Trips on special event                                   1.00  \n",
       "Weekend trips                                            1.00  \n",
       "Trip during 7 am and 10 am                               1.00  \n",
       "Trip during 10 am and 4 pm                               1.00  \n",
       "Trip during 4 pm and 8 pm                                1.00  \n",
       "Trip during 8 pm and 7 am                                1.00  \n",
       "Average daily precipitation                              4.00  \n",
       "Average daily temperature                               85.00  \n",
       "Proportion of CBD land use at origin                     0.90  \n",
       "Proportion of urban land use at origin                   0.90  \n",
       "Proportion of sub-urban land use at origin               0.60  \n",
       "Proportion of rural land use at origin                   0.00  \n",
       "Average population density at origin                 18555.69  \n",
       "Average employment density at origin                229577.11  \n",
       "Average parking density at origin                    53492.32  \n",
       "Intersection density (per sq. miles) at origin         808.08  \n",
       "Entropy at origin                                        0.93  \n",
       "Proportion of CBD land use at destination                0.90  \n",
       "Proportion of urban land use at destination              0.90  \n",
       "Proportion of sub-urban land use at destination          0.60  \n",
       "Proportion of rural land use at destination              0.00  \n",
       "Average population density at destination            18555.69  \n",
       "Average employment density at destination           229577.11  \n",
       "Average parking density at destination               53492.32  \n",
       "Intersection density (per sq. miles) at destina...     808.08  \n",
       "Entropy at destination                                   0.93  "
      ]
     },
     "execution_count": 18,
     "metadata": {},
     "output_type": "execute_result"
    }
   ],
   "source": [
    "model_data = pd.read_csv(\n",
    "    '_Data/model data/model_data_TimeZoneCorrected_08192021.csv')  #.sample(2000, random_state=0)\n",
    "\n",
    "## define variables for model\n",
    "trip_variables = [\n",
    "    'tripDistance_miles', 'tripDuration', 'route_directness_trace',\n",
    "    'average_trip_speed_mph', 'high_trip_count_day', 'weekend_trip',\n",
    "    'StartTime_AMPeak', 'StartTime_Day', 'StartTime_PMPeak', 'StartTime_Night',\n",
    "    'PRCP', 'TAVG'\n",
    "]\n",
    "\n",
    "landuse_variables = [\n",
    "    'MEAN_CBD_start',\n",
    "    'MEAN_URBAN_start',\n",
    "    'MEAN_SU_start',\n",
    "    'MEAN_RURAL_start',\n",
    "    'MEAN_POP_D_start',\n",
    "    'MEAN_EMP_D_start',\n",
    "    'MEAN_PAKING_start',\n",
    "    'intersection_density_start',\n",
    "    'enthropy_start',\n",
    "    'MEAN_CBD_end',\n",
    "    'MEAN_URBAN_end',\n",
    "    'MEAN_SU_end',\n",
    "    'MEAN_RURAL_end',\n",
    "    'MEAN_POP_D_end',\n",
    "    'MEAN_EMP_D_end',\n",
    "    'MEAN_PAKING_end',\n",
    "    'intersection_density_end',\n",
    "    'enthropy_end',\n",
    "]\n",
    "\n",
    "flag_variables = [\n",
    "    'PARK_start', 'VANDERBILT_start', 'NISSAN_start', 'PARK_end',\n",
    "    'VANDERBILT_end', 'NISSAN_end'\n",
    "]\n",
    "\n",
    "remaining_var = [\n",
    "    'trip_id', 'GRID_ID_start', 'GRID_ID_end', 'tripDistance',\n",
    "    'euclidean_distance', 'StartTime_decimal', 'trip_start_hour_no', 'DATE_str'\n",
    "]\n",
    "\n",
    "variable_forPCA = trip_variables + landuse_variables\n",
    "\n",
    "### rename variables\n",
    "\n",
    "rename_variables = {\n",
    "    'tripDistance_miles': 'Trip distance (miles)',\n",
    "    'tripDuration': 'Trip duration (minutes)',\n",
    "    'route_directness_trace': 'Route directness ratio',\n",
    "    'average_trip_speed_mph': 'Average trip speed (mph)',\n",
    "    'high_trip_count_day': 'Trips on special event',\n",
    "    'weekend_trip': 'Weekend trips',\n",
    "    'StartTime_AMPeak': 'Trip during 7 am and 10 am',\n",
    "    'StartTime_Day': 'Trip during 10 am and 4 pm',\n",
    "    'StartTime_PMPeak': 'Trip during 4 pm and 8 pm',\n",
    "    'StartTime_Night': 'Trip during 8 pm and 7 am',\n",
    "    'PRCP': 'Average daily precipitation',\n",
    "    'TAVG': 'Average daily temperature',\n",
    "    'MEAN_CBD_start': 'Proportion of CBD land use at origin',\n",
    "    'MEAN_URBAN_start': 'Proportion of urban land use at origin',\n",
    "    'MEAN_SU_start': 'Proportion of sub-urban land use at origin',\n",
    "    'MEAN_RURAL_start': 'Proportion of rural land use at origin',\n",
    "    'MEAN_POP_D_start': 'Average population density at origin',\n",
    "    'MEAN_EMP_D_start': 'Average employment density at origin',\n",
    "    'MEAN_PAKING_start': 'Average parking density at origin',\n",
    "    'intersection_density_start':\n",
    "    'Intersection density (per sq. miles) at origin',\n",
    "    'enthropy_start': 'Entropy at origin',\n",
    "    'MEAN_CBD_end': 'Proportion of CBD land use at destination',\n",
    "    'MEAN_URBAN_end': 'Proportion of urban land use at destination',\n",
    "    'MEAN_SU_end': 'Proportion of sub-urban land use at destination',\n",
    "    'MEAN_RURAL_end': 'Proportion of rural land use at destination',\n",
    "    'MEAN_POP_D_end': 'Average population density at destination',\n",
    "    'MEAN_EMP_D_end': 'Average employment density at destination',\n",
    "    'MEAN_PAKING_end': 'Average parking density at destination',\n",
    "    'intersection_density_end':\n",
    "    'Intersection density (per sq. miles) at destination',\n",
    "    'enthropy_end': 'Entropy at destination'\n",
    "}\n",
    "\n",
    "### descriptive stat of variables\n",
    "\n",
    "dummy_var = [\n",
    "    'weekend_trip', 'high_trip_count_day', 'StartTime_AMPeak', 'StartTime_Day',\n",
    "    'StartTime_PMPeak', 'StartTime_Night'\n",
    "]\n",
    "for var in dummy_var:\n",
    "    print(model_data[var].value_counts())\n",
    "\n",
    "descriptive_stat = round(\n",
    "    model_data[variable_forPCA].describe().transpose().rename(\n",
    "        index=rename_variables), 2)\n",
    "descriptive_stat.to_csv('results/model_data_descriptive_stat_TimeZoneCorrected_08192021.csv')\n",
    "descriptive_stat\n",
    "\n",
    "## PCA variation explained"
   ]
  },
  {
   "cell_type": "code",
   "execution_count": 20,
   "metadata": {
    "ExecuteTime": {
     "end_time": "2021-10-03T17:08:13.826724Z",
     "start_time": "2021-10-03T17:08:13.808804Z"
    }
   },
   "outputs": [
    {
     "data": {
      "text/plain": [
       "0.1358100023131908"
      ]
     },
     "execution_count": 20,
     "metadata": {},
     "output_type": "execute_result"
    }
   ],
   "source": [
    "model_data['high_trip_count_day'].sum()/len(model_data)"
   ]
  },
  {
   "cell_type": "code",
   "execution_count": 22,
   "metadata": {
    "ExecuteTime": {
     "end_time": "2021-10-03T19:41:19.701477Z",
     "start_time": "2021-10-03T19:41:19.686430Z"
    }
   },
   "outputs": [
    {
     "data": {
      "text/plain": [
       "265020"
      ]
     },
     "execution_count": 22,
     "metadata": {},
     "output_type": "execute_result"
    }
   ],
   "source": [
    "model_data['weekend_trip'].sum()"
   ]
  },
  {
   "cell_type": "code",
   "execution_count": null,
   "metadata": {},
   "outputs": [],
   "source": []
  },
  {
   "cell_type": "code",
   "execution_count": null,
   "metadata": {},
   "outputs": [],
   "source": []
  },
  {
   "cell_type": "code",
   "execution_count": null,
   "metadata": {},
   "outputs": [],
   "source": []
  },
  {
   "cell_type": "code",
   "execution_count": null,
   "metadata": {},
   "outputs": [],
   "source": []
  },
  {
   "cell_type": "code",
   "execution_count": null,
   "metadata": {},
   "outputs": [],
   "source": []
  },
  {
   "cell_type": "code",
   "execution_count": null,
   "metadata": {},
   "outputs": [],
   "source": []
  },
  {
   "cell_type": "code",
   "execution_count": null,
   "metadata": {},
   "outputs": [],
   "source": []
  },
  {
   "cell_type": "code",
   "execution_count": null,
   "metadata": {},
   "outputs": [],
   "source": []
  },
  {
   "cell_type": "code",
   "execution_count": null,
   "metadata": {},
   "outputs": [],
   "source": []
  }
 ],
 "metadata": {
  "kernelspec": {
   "display_name": "Python 3",
   "language": "python",
   "name": "python3"
  },
  "language_info": {
   "codemirror_mode": {
    "name": "ipython",
    "version": 3
   },
   "file_extension": ".py",
   "mimetype": "text/x-python",
   "name": "python",
   "nbconvert_exporter": "python",
   "pygments_lexer": "ipython3",
   "version": "3.9.4"
  },
  "toc": {
   "base_numbering": 1,
   "nav_menu": {},
   "number_sections": true,
   "sideBar": false,
   "skip_h1_title": false,
   "title_cell": "Table of Contents",
   "title_sidebar": "Contents",
   "toc_cell": false,
   "toc_position": {
    "height": "789px",
    "left": "1536px",
    "top": "91px",
    "width": "384px"
   },
   "toc_section_display": true,
   "toc_window_display": true
  },
  "varInspector": {
   "cols": {
    "lenName": 16,
    "lenType": 16,
    "lenVar": 40
   },
   "kernels_config": {
    "python": {
     "delete_cmd_postfix": "",
     "delete_cmd_prefix": "del ",
     "library": "var_list.py",
     "varRefreshCmd": "print(var_dic_list())"
    },
    "r": {
     "delete_cmd_postfix": ") ",
     "delete_cmd_prefix": "rm(",
     "library": "var_list.r",
     "varRefreshCmd": "cat(var_dic_list()) "
    }
   },
   "oldHeight": 250.79700000000003,
   "position": {
    "height": "272.795px",
    "left": "1607.99px",
    "right": "20px",
    "top": "593.99px",
    "width": "363.16px"
   },
   "types_to_exclude": [
    "module",
    "function",
    "builtin_function_or_method",
    "instance",
    "_Feature"
   ],
   "varInspector_section_display": "block",
   "window_display": false
  }
 },
 "nbformat": 4,
 "nbformat_minor": 2
}
